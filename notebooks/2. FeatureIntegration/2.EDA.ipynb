{
 "cells": [
  {
   "cell_type": "markdown",
   "metadata": {},
   "source": [
    "# Integración features con minutos jugados y filtro de jugadores con minutos jugados > 600 + EDA"
   ]
  },
  {
   "cell_type": "code",
   "execution_count": 1,
   "metadata": {},
   "outputs": [],
   "source": [
    "import pandas as pd\n",
    "import numpy as np\n",
    "import seaborn as sbn\n",
    "import matplotlib.pyplot as plt"
   ]
  },
  {
   "cell_type": "code",
   "execution_count": 2,
   "metadata": {},
   "outputs": [],
   "source": [
    "df = pd.read_csv(r'C:\\Users\\DELUX\\Desktop\\publicaciones\\1_DataScoutingClustering\\1_MedioCentroCreativo\\df\\feat.csv',decimal=',')"
   ]
  },
  {
   "cell_type": "code",
   "execution_count": 3,
   "metadata": {},
   "outputs": [
    {
     "data": {
      "text/html": [
       "<div>\n",
       "<style scoped>\n",
       "    .dataframe tbody tr th:only-of-type {\n",
       "        vertical-align: middle;\n",
       "    }\n",
       "\n",
       "    .dataframe tbody tr th {\n",
       "        vertical-align: top;\n",
       "    }\n",
       "\n",
       "    .dataframe thead th {\n",
       "        text-align: right;\n",
       "    }\n",
       "</style>\n",
       "<table border=\"1\" class=\"dataframe\">\n",
       "  <thead>\n",
       "    <tr style=\"text-align: right;\">\n",
       "      <th></th>\n",
       "      <th>id_jugador</th>\n",
       "      <th>jugador</th>\n",
       "      <th>equipo</th>\n",
       "      <th>feat1</th>\n",
       "      <th>feat2</th>\n",
       "      <th>feat3</th>\n",
       "      <th>feat4</th>\n",
       "      <th>feat5</th>\n",
       "      <th>feat6</th>\n",
       "      <th>feat7</th>\n",
       "      <th>feat8</th>\n",
       "      <th>feat9</th>\n",
       "      <th>feat10</th>\n",
       "      <th>feat11</th>\n",
       "    </tr>\n",
       "  </thead>\n",
       "  <tbody>\n",
       "    <tr>\n",
       "      <th>0</th>\n",
       "      <td>7261</td>\n",
       "      <td>Daniele Bonera</td>\n",
       "      <td>Villarreal</td>\n",
       "      <td>1.931330</td>\n",
       "      <td>0.000000</td>\n",
       "      <td>0.903226</td>\n",
       "      <td>0.000000</td>\n",
       "      <td>0.000000</td>\n",
       "      <td>0.386266</td>\n",
       "      <td>0.000000</td>\n",
       "      <td>0.000000</td>\n",
       "      <td>0.0</td>\n",
       "      <td>13.133047</td>\n",
       "      <td>0.098361</td>\n",
       "    </tr>\n",
       "    <tr>\n",
       "      <th>1</th>\n",
       "      <td>10316</td>\n",
       "      <td>Joaquín Sánchez Rodríguez</td>\n",
       "      <td>Real Betis</td>\n",
       "      <td>2.284534</td>\n",
       "      <td>0.265643</td>\n",
       "      <td>0.847518</td>\n",
       "      <td>2.550177</td>\n",
       "      <td>1.381346</td>\n",
       "      <td>1.646989</td>\n",
       "      <td>2.337662</td>\n",
       "      <td>6.216057</td>\n",
       "      <td>0.0</td>\n",
       "      <td>3.187721</td>\n",
       "      <td>0.316154</td>\n",
       "    </tr>\n",
       "    <tr>\n",
       "      <th>2</th>\n",
       "      <td>11129</td>\n",
       "      <td>David López</td>\n",
       "      <td>Espanyol</td>\n",
       "      <td>3.807692</td>\n",
       "      <td>0.049451</td>\n",
       "      <td>0.883181</td>\n",
       "      <td>0.296703</td>\n",
       "      <td>0.148352</td>\n",
       "      <td>0.296703</td>\n",
       "      <td>0.197802</td>\n",
       "      <td>0.791209</td>\n",
       "      <td>0.0</td>\n",
       "      <td>12.956044</td>\n",
       "      <td>0.164928</td>\n",
       "    </tr>\n",
       "    <tr>\n",
       "      <th>3</th>\n",
       "      <td>11602</td>\n",
       "      <td>Borja Fernández</td>\n",
       "      <td>Real Valladolid</td>\n",
       "      <td>2.681764</td>\n",
       "      <td>0.000000</td>\n",
       "      <td>0.788918</td>\n",
       "      <td>0.107271</td>\n",
       "      <td>0.000000</td>\n",
       "      <td>0.750894</td>\n",
       "      <td>0.107271</td>\n",
       "      <td>0.643623</td>\n",
       "      <td>0.0</td>\n",
       "      <td>7.401669</td>\n",
       "      <td>0.229846</td>\n",
       "    </tr>\n",
       "    <tr>\n",
       "      <th>4</th>\n",
       "      <td>14028</td>\n",
       "      <td>Juan José Camacho Barnola</td>\n",
       "      <td>Huesca</td>\n",
       "      <td>0.000000</td>\n",
       "      <td>0.000000</td>\n",
       "      <td>0.545455</td>\n",
       "      <td>5.294118</td>\n",
       "      <td>0.000000</td>\n",
       "      <td>2.647059</td>\n",
       "      <td>2.647059</td>\n",
       "      <td>2.647059</td>\n",
       "      <td>0.0</td>\n",
       "      <td>0.000000</td>\n",
       "      <td>0.155556</td>\n",
       "    </tr>\n",
       "  </tbody>\n",
       "</table>\n",
       "</div>"
      ],
      "text/plain": [
       "   id_jugador                    jugador           equipo     feat1     feat2  \\\n",
       "0        7261             Daniele Bonera       Villarreal  1.931330  0.000000   \n",
       "1       10316  Joaquín Sánchez Rodríguez       Real Betis  2.284534  0.265643   \n",
       "2       11129                David López         Espanyol  3.807692  0.049451   \n",
       "3       11602            Borja Fernández  Real Valladolid  2.681764  0.000000   \n",
       "4       14028  Juan José Camacho Barnola           Huesca  0.000000  0.000000   \n",
       "\n",
       "      feat3     feat4     feat5     feat6     feat7     feat8  feat9  \\\n",
       "0  0.903226  0.000000  0.000000  0.386266  0.000000  0.000000    0.0   \n",
       "1  0.847518  2.550177  1.381346  1.646989  2.337662  6.216057    0.0   \n",
       "2  0.883181  0.296703  0.148352  0.296703  0.197802  0.791209    0.0   \n",
       "3  0.788918  0.107271  0.000000  0.750894  0.107271  0.643623    0.0   \n",
       "4  0.545455  5.294118  0.000000  2.647059  2.647059  2.647059    0.0   \n",
       "\n",
       "      feat10    feat11  \n",
       "0  13.133047  0.098361  \n",
       "1   3.187721  0.316154  \n",
       "2  12.956044  0.164928  \n",
       "3   7.401669  0.229846  \n",
       "4   0.000000  0.155556  "
      ]
     },
     "execution_count": 3,
     "metadata": {},
     "output_type": "execute_result"
    }
   ],
   "source": [
    "df.head()"
   ]
  },
  {
   "cell_type": "code",
   "execution_count": 4,
   "metadata": {},
   "outputs": [],
   "source": [
    "dataAggJug = pd.read_csv(r'C:\\Users\\DELUX\\Desktop\\consultoria_futbol\\comparativoJugadores\\dataAggJug.csv')"
   ]
  },
  {
   "cell_type": "code",
   "execution_count": 5,
   "metadata": {},
   "outputs": [],
   "source": [
    "minJug = dataAggJug[dataAggJug['estadistica']=='mins_played']"
   ]
  },
  {
   "cell_type": "code",
   "execution_count": 6,
   "metadata": {},
   "outputs": [],
   "source": [
    "minJug = minJug.drop('estadistica',1).rename(columns={'num_estadistica':'minJug'})"
   ]
  },
  {
   "cell_type": "code",
   "execution_count": 7,
   "metadata": {},
   "outputs": [],
   "source": [
    "minJug = minJug.groupby(['id_jugador','jugador']).sum().reset_index().drop('fecha',1)"
   ]
  },
  {
   "cell_type": "code",
   "execution_count": 8,
   "metadata": {},
   "outputs": [
    {
     "data": {
      "text/html": [
       "<div>\n",
       "<style scoped>\n",
       "    .dataframe tbody tr th:only-of-type {\n",
       "        vertical-align: middle;\n",
       "    }\n",
       "\n",
       "    .dataframe tbody tr th {\n",
       "        vertical-align: top;\n",
       "    }\n",
       "\n",
       "    .dataframe thead th {\n",
       "        text-align: right;\n",
       "    }\n",
       "</style>\n",
       "<table border=\"1\" class=\"dataframe\">\n",
       "  <thead>\n",
       "    <tr style=\"text-align: right;\">\n",
       "      <th></th>\n",
       "      <th>id_jugador</th>\n",
       "      <th>jugador</th>\n",
       "      <th>minJug</th>\n",
       "    </tr>\n",
       "  </thead>\n",
       "  <tbody>\n",
       "    <tr>\n",
       "      <th>0</th>\n",
       "      <td>7261</td>\n",
       "      <td>Daniele Bonera</td>\n",
       "      <td>233</td>\n",
       "    </tr>\n",
       "    <tr>\n",
       "      <th>1</th>\n",
       "      <td>10316</td>\n",
       "      <td>Joaquín Sánchez Rodríguez</td>\n",
       "      <td>1694</td>\n",
       "    </tr>\n",
       "    <tr>\n",
       "      <th>2</th>\n",
       "      <td>11129</td>\n",
       "      <td>David López</td>\n",
       "      <td>1820</td>\n",
       "    </tr>\n",
       "    <tr>\n",
       "      <th>3</th>\n",
       "      <td>11602</td>\n",
       "      <td>Borja Fernández</td>\n",
       "      <td>839</td>\n",
       "    </tr>\n",
       "    <tr>\n",
       "      <th>4</th>\n",
       "      <td>14028</td>\n",
       "      <td>Juan José Camacho Barnola</td>\n",
       "      <td>34</td>\n",
       "    </tr>\n",
       "  </tbody>\n",
       "</table>\n",
       "</div>"
      ],
      "text/plain": [
       "   id_jugador                    jugador  minJug\n",
       "0        7261             Daniele Bonera     233\n",
       "1       10316  Joaquín Sánchez Rodríguez    1694\n",
       "2       11129                David López    1820\n",
       "3       11602            Borja Fernández     839\n",
       "4       14028  Juan José Camacho Barnola      34"
      ]
     },
     "execution_count": 8,
     "metadata": {},
     "output_type": "execute_result"
    }
   ],
   "source": [
    "minJug.head()"
   ]
  },
  {
   "cell_type": "code",
   "execution_count": 9,
   "metadata": {},
   "outputs": [],
   "source": [
    "minJug['id_jugador'] = minJug['id_jugador'].astype(int)\n",
    "df['id_jugador'] = df['id_jugador'].astype(int)"
   ]
  },
  {
   "cell_type": "code",
   "execution_count": 10,
   "metadata": {},
   "outputs": [],
   "source": [
    "df = df.merge(minJug,on=['id_jugador','jugador'],how='left')"
   ]
  },
  {
   "cell_type": "code",
   "execution_count": 11,
   "metadata": {},
   "outputs": [
    {
     "data": {
      "text/html": [
       "<div>\n",
       "<style scoped>\n",
       "    .dataframe tbody tr th:only-of-type {\n",
       "        vertical-align: middle;\n",
       "    }\n",
       "\n",
       "    .dataframe tbody tr th {\n",
       "        vertical-align: top;\n",
       "    }\n",
       "\n",
       "    .dataframe thead th {\n",
       "        text-align: right;\n",
       "    }\n",
       "</style>\n",
       "<table border=\"1\" class=\"dataframe\">\n",
       "  <thead>\n",
       "    <tr style=\"text-align: right;\">\n",
       "      <th></th>\n",
       "      <th>id_jugador</th>\n",
       "      <th>jugador</th>\n",
       "      <th>equipo</th>\n",
       "      <th>feat1</th>\n",
       "      <th>feat2</th>\n",
       "      <th>feat3</th>\n",
       "      <th>feat4</th>\n",
       "      <th>feat5</th>\n",
       "      <th>feat6</th>\n",
       "      <th>feat7</th>\n",
       "      <th>feat8</th>\n",
       "      <th>feat9</th>\n",
       "      <th>feat10</th>\n",
       "      <th>feat11</th>\n",
       "      <th>minJug</th>\n",
       "    </tr>\n",
       "  </thead>\n",
       "  <tbody>\n",
       "    <tr>\n",
       "      <th>0</th>\n",
       "      <td>7261</td>\n",
       "      <td>Daniele Bonera</td>\n",
       "      <td>Villarreal</td>\n",
       "      <td>1.931330</td>\n",
       "      <td>0.000000</td>\n",
       "      <td>0.903226</td>\n",
       "      <td>0.000000</td>\n",
       "      <td>0.000000</td>\n",
       "      <td>0.386266</td>\n",
       "      <td>0.000000</td>\n",
       "      <td>0.000000</td>\n",
       "      <td>0.0</td>\n",
       "      <td>13.133047</td>\n",
       "      <td>0.098361</td>\n",
       "      <td>233</td>\n",
       "    </tr>\n",
       "    <tr>\n",
       "      <th>1</th>\n",
       "      <td>10316</td>\n",
       "      <td>Joaquín Sánchez Rodríguez</td>\n",
       "      <td>Real Betis</td>\n",
       "      <td>2.284534</td>\n",
       "      <td>0.265643</td>\n",
       "      <td>0.847518</td>\n",
       "      <td>2.550177</td>\n",
       "      <td>1.381346</td>\n",
       "      <td>1.646989</td>\n",
       "      <td>2.337662</td>\n",
       "      <td>6.216057</td>\n",
       "      <td>0.0</td>\n",
       "      <td>3.187721</td>\n",
       "      <td>0.316154</td>\n",
       "      <td>1694</td>\n",
       "    </tr>\n",
       "    <tr>\n",
       "      <th>2</th>\n",
       "      <td>11129</td>\n",
       "      <td>David López</td>\n",
       "      <td>Espanyol</td>\n",
       "      <td>3.807692</td>\n",
       "      <td>0.049451</td>\n",
       "      <td>0.883181</td>\n",
       "      <td>0.296703</td>\n",
       "      <td>0.148352</td>\n",
       "      <td>0.296703</td>\n",
       "      <td>0.197802</td>\n",
       "      <td>0.791209</td>\n",
       "      <td>0.0</td>\n",
       "      <td>12.956044</td>\n",
       "      <td>0.164928</td>\n",
       "      <td>1820</td>\n",
       "    </tr>\n",
       "    <tr>\n",
       "      <th>3</th>\n",
       "      <td>11602</td>\n",
       "      <td>Borja Fernández</td>\n",
       "      <td>Real Valladolid</td>\n",
       "      <td>2.681764</td>\n",
       "      <td>0.000000</td>\n",
       "      <td>0.788918</td>\n",
       "      <td>0.107271</td>\n",
       "      <td>0.000000</td>\n",
       "      <td>0.750894</td>\n",
       "      <td>0.107271</td>\n",
       "      <td>0.643623</td>\n",
       "      <td>0.0</td>\n",
       "      <td>7.401669</td>\n",
       "      <td>0.229846</td>\n",
       "      <td>839</td>\n",
       "    </tr>\n",
       "    <tr>\n",
       "      <th>4</th>\n",
       "      <td>14028</td>\n",
       "      <td>Juan José Camacho Barnola</td>\n",
       "      <td>Huesca</td>\n",
       "      <td>0.000000</td>\n",
       "      <td>0.000000</td>\n",
       "      <td>0.545455</td>\n",
       "      <td>5.294118</td>\n",
       "      <td>0.000000</td>\n",
       "      <td>2.647059</td>\n",
       "      <td>2.647059</td>\n",
       "      <td>2.647059</td>\n",
       "      <td>0.0</td>\n",
       "      <td>0.000000</td>\n",
       "      <td>0.155556</td>\n",
       "      <td>34</td>\n",
       "    </tr>\n",
       "  </tbody>\n",
       "</table>\n",
       "</div>"
      ],
      "text/plain": [
       "   id_jugador                    jugador           equipo     feat1     feat2  \\\n",
       "0        7261             Daniele Bonera       Villarreal  1.931330  0.000000   \n",
       "1       10316  Joaquín Sánchez Rodríguez       Real Betis  2.284534  0.265643   \n",
       "2       11129                David López         Espanyol  3.807692  0.049451   \n",
       "3       11602            Borja Fernández  Real Valladolid  2.681764  0.000000   \n",
       "4       14028  Juan José Camacho Barnola           Huesca  0.000000  0.000000   \n",
       "\n",
       "      feat3     feat4     feat5     feat6     feat7     feat8  feat9  \\\n",
       "0  0.903226  0.000000  0.000000  0.386266  0.000000  0.000000    0.0   \n",
       "1  0.847518  2.550177  1.381346  1.646989  2.337662  6.216057    0.0   \n",
       "2  0.883181  0.296703  0.148352  0.296703  0.197802  0.791209    0.0   \n",
       "3  0.788918  0.107271  0.000000  0.750894  0.107271  0.643623    0.0   \n",
       "4  0.545455  5.294118  0.000000  2.647059  2.647059  2.647059    0.0   \n",
       "\n",
       "      feat10    feat11  minJug  \n",
       "0  13.133047  0.098361     233  \n",
       "1   3.187721  0.316154    1694  \n",
       "2  12.956044  0.164928    1820  \n",
       "3   7.401669  0.229846     839  \n",
       "4   0.000000  0.155556      34  "
      ]
     },
     "execution_count": 11,
     "metadata": {},
     "output_type": "execute_result"
    }
   ],
   "source": [
    "df.head()"
   ]
  },
  {
   "cell_type": "code",
   "execution_count": 12,
   "metadata": {},
   "outputs": [
    {
     "data": {
      "text/plain": [
       "517"
      ]
     },
     "execution_count": 12,
     "metadata": {},
     "output_type": "execute_result"
    }
   ],
   "source": [
    "len(df)"
   ]
  },
  {
   "cell_type": "code",
   "execution_count": 13,
   "metadata": {},
   "outputs": [
    {
     "data": {
      "text/plain": [
       "id_jugador    0\n",
       "jugador       0\n",
       "equipo        0\n",
       "feat1         0\n",
       "feat2         0\n",
       "feat3         0\n",
       "feat4         0\n",
       "feat5         0\n",
       "feat6         0\n",
       "feat7         0\n",
       "feat8         0\n",
       "feat9         0\n",
       "feat10        0\n",
       "feat11        0\n",
       "minJug        0\n",
       "dtype: int64"
      ]
     },
     "execution_count": 13,
     "metadata": {},
     "output_type": "execute_result"
    }
   ],
   "source": [
    "df.isnull().sum()"
   ]
  },
  {
   "cell_type": "code",
   "execution_count": 14,
   "metadata": {},
   "outputs": [],
   "source": [
    "df = df[df['minJug']>600]"
   ]
  },
  {
   "cell_type": "code",
   "execution_count": 15,
   "metadata": {},
   "outputs": [
    {
     "data": {
      "text/plain": [
       "360"
      ]
     },
     "execution_count": 15,
     "metadata": {},
     "output_type": "execute_result"
    }
   ],
   "source": [
    "len(df)"
   ]
  },
  {
   "cell_type": "code",
   "execution_count": 16,
   "metadata": {},
   "outputs": [
    {
     "data": {
      "text/html": [
       "<div>\n",
       "<style scoped>\n",
       "    .dataframe tbody tr th:only-of-type {\n",
       "        vertical-align: middle;\n",
       "    }\n",
       "\n",
       "    .dataframe tbody tr th {\n",
       "        vertical-align: top;\n",
       "    }\n",
       "\n",
       "    .dataframe thead th {\n",
       "        text-align: right;\n",
       "    }\n",
       "</style>\n",
       "<table border=\"1\" class=\"dataframe\">\n",
       "  <thead>\n",
       "    <tr style=\"text-align: right;\">\n",
       "      <th></th>\n",
       "      <th>id_jugador</th>\n",
       "      <th>feat1</th>\n",
       "      <th>feat2</th>\n",
       "      <th>feat3</th>\n",
       "      <th>feat4</th>\n",
       "      <th>feat5</th>\n",
       "      <th>feat6</th>\n",
       "      <th>feat7</th>\n",
       "      <th>feat8</th>\n",
       "      <th>feat9</th>\n",
       "      <th>feat10</th>\n",
       "      <th>feat11</th>\n",
       "      <th>minJug</th>\n",
       "    </tr>\n",
       "  </thead>\n",
       "  <tbody>\n",
       "    <tr>\n",
       "      <th>count</th>\n",
       "      <td>360.000000</td>\n",
       "      <td>360.000000</td>\n",
       "      <td>360.000000</td>\n",
       "      <td>360.000000</td>\n",
       "      <td>360.000000</td>\n",
       "      <td>360.000000</td>\n",
       "      <td>360.000000</td>\n",
       "      <td>360.000000</td>\n",
       "      <td>360.000000</td>\n",
       "      <td>360.000000</td>\n",
       "      <td>360.000000</td>\n",
       "      <td>360.000000</td>\n",
       "      <td>360.000000</td>\n",
       "    </tr>\n",
       "    <tr>\n",
       "      <th>mean</th>\n",
       "      <td>118987.508333</td>\n",
       "      <td>2.754132</td>\n",
       "      <td>0.154759</td>\n",
       "      <td>0.770757</td>\n",
       "      <td>0.887020</td>\n",
       "      <td>0.786081</td>\n",
       "      <td>1.298568</td>\n",
       "      <td>0.777993</td>\n",
       "      <td>2.756160</td>\n",
       "      <td>0.051358</td>\n",
       "      <td>5.822129</td>\n",
       "      <td>0.227682</td>\n",
       "      <td>1931.908333</td>\n",
       "    </tr>\n",
       "    <tr>\n",
       "      <th>std</th>\n",
       "      <td>80404.245406</td>\n",
       "      <td>1.760665</td>\n",
       "      <td>0.151937</td>\n",
       "      <td>0.097245</td>\n",
       "      <td>0.848266</td>\n",
       "      <td>0.800222</td>\n",
       "      <td>0.946380</td>\n",
       "      <td>0.632398</td>\n",
       "      <td>2.242642</td>\n",
       "      <td>0.089612</td>\n",
       "      <td>4.041642</td>\n",
       "      <td>0.135112</td>\n",
       "      <td>749.261032</td>\n",
       "    </tr>\n",
       "    <tr>\n",
       "      <th>min</th>\n",
       "      <td>10316.000000</td>\n",
       "      <td>0.142405</td>\n",
       "      <td>0.000000</td>\n",
       "      <td>0.404050</td>\n",
       "      <td>0.000000</td>\n",
       "      <td>0.000000</td>\n",
       "      <td>0.000000</td>\n",
       "      <td>0.000000</td>\n",
       "      <td>0.000000</td>\n",
       "      <td>0.000000</td>\n",
       "      <td>0.140845</td>\n",
       "      <td>0.000000</td>\n",
       "      <td>608.000000</td>\n",
       "    </tr>\n",
       "    <tr>\n",
       "      <th>25%</th>\n",
       "      <td>59944.750000</td>\n",
       "      <td>1.465553</td>\n",
       "      <td>0.034276</td>\n",
       "      <td>0.728040</td>\n",
       "      <td>0.288616</td>\n",
       "      <td>0.136574</td>\n",
       "      <td>0.497816</td>\n",
       "      <td>0.221977</td>\n",
       "      <td>0.938385</td>\n",
       "      <td>0.000000</td>\n",
       "      <td>2.522487</td>\n",
       "      <td>0.104647</td>\n",
       "      <td>1361.000000</td>\n",
       "    </tr>\n",
       "    <tr>\n",
       "      <th>50%</th>\n",
       "      <td>92122.500000</td>\n",
       "      <td>2.431690</td>\n",
       "      <td>0.128312</td>\n",
       "      <td>0.785106</td>\n",
       "      <td>0.668585</td>\n",
       "      <td>0.579111</td>\n",
       "      <td>1.155876</td>\n",
       "      <td>0.669634</td>\n",
       "      <td>2.500000</td>\n",
       "      <td>0.000000</td>\n",
       "      <td>4.704807</td>\n",
       "      <td>0.267989</td>\n",
       "      <td>1895.500000</td>\n",
       "    </tr>\n",
       "    <tr>\n",
       "      <th>75%</th>\n",
       "      <td>168728.750000</td>\n",
       "      <td>3.584059</td>\n",
       "      <td>0.234124</td>\n",
       "      <td>0.840664</td>\n",
       "      <td>1.303867</td>\n",
       "      <td>1.206020</td>\n",
       "      <td>2.024843</td>\n",
       "      <td>1.195390</td>\n",
       "      <td>3.982565</td>\n",
       "      <td>0.079184</td>\n",
       "      <td>8.686109</td>\n",
       "      <td>0.335289</td>\n",
       "      <td>2588.250000</td>\n",
       "    </tr>\n",
       "    <tr>\n",
       "      <th>max</th>\n",
       "      <td>472145.000000</td>\n",
       "      <td>9.704881</td>\n",
       "      <td>1.030043</td>\n",
       "      <td>0.944820</td>\n",
       "      <td>6.180258</td>\n",
       "      <td>4.420601</td>\n",
       "      <td>4.242658</td>\n",
       "      <td>3.022140</td>\n",
       "      <td>13.692552</td>\n",
       "      <td>1.029520</td>\n",
       "      <td>19.535166</td>\n",
       "      <td>0.525424</td>\n",
       "      <td>3420.000000</td>\n",
       "    </tr>\n",
       "  </tbody>\n",
       "</table>\n",
       "</div>"
      ],
      "text/plain": [
       "          id_jugador       feat1       feat2       feat3       feat4  \\\n",
       "count     360.000000  360.000000  360.000000  360.000000  360.000000   \n",
       "mean   118987.508333    2.754132    0.154759    0.770757    0.887020   \n",
       "std     80404.245406    1.760665    0.151937    0.097245    0.848266   \n",
       "min     10316.000000    0.142405    0.000000    0.404050    0.000000   \n",
       "25%     59944.750000    1.465553    0.034276    0.728040    0.288616   \n",
       "50%     92122.500000    2.431690    0.128312    0.785106    0.668585   \n",
       "75%    168728.750000    3.584059    0.234124    0.840664    1.303867   \n",
       "max    472145.000000    9.704881    1.030043    0.944820    6.180258   \n",
       "\n",
       "            feat5       feat6       feat7       feat8       feat9      feat10  \\\n",
       "count  360.000000  360.000000  360.000000  360.000000  360.000000  360.000000   \n",
       "mean     0.786081    1.298568    0.777993    2.756160    0.051358    5.822129   \n",
       "std      0.800222    0.946380    0.632398    2.242642    0.089612    4.041642   \n",
       "min      0.000000    0.000000    0.000000    0.000000    0.000000    0.140845   \n",
       "25%      0.136574    0.497816    0.221977    0.938385    0.000000    2.522487   \n",
       "50%      0.579111    1.155876    0.669634    2.500000    0.000000    4.704807   \n",
       "75%      1.206020    2.024843    1.195390    3.982565    0.079184    8.686109   \n",
       "max      4.420601    4.242658    3.022140   13.692552    1.029520   19.535166   \n",
       "\n",
       "           feat11       minJug  \n",
       "count  360.000000   360.000000  \n",
       "mean     0.227682  1931.908333  \n",
       "std      0.135112   749.261032  \n",
       "min      0.000000   608.000000  \n",
       "25%      0.104647  1361.000000  \n",
       "50%      0.267989  1895.500000  \n",
       "75%      0.335289  2588.250000  \n",
       "max      0.525424  3420.000000  "
      ]
     },
     "execution_count": 16,
     "metadata": {},
     "output_type": "execute_result"
    }
   ],
   "source": [
    "df.describe()"
   ]
  },
  {
   "cell_type": "code",
   "execution_count": 17,
   "metadata": {},
   "outputs": [],
   "source": [
    "df['id_jugador'] = df['id_jugador'].astype('str')"
   ]
  },
  {
   "cell_type": "code",
   "execution_count": 18,
   "metadata": {},
   "outputs": [
    {
     "data": {
      "image/png": "[encoded data removed]",
      "text/plain": [
       "<Figure size 1152x1440 with 12 Axes>"
      ]
     },
     "metadata": {
      "needs_background": "light"
     },
     "output_type": "display_data"
    }
   ],
   "source": [
    "df.hist(figsize=(16,20));"
   ]
  },
  {
   "cell_type": "code",
   "execution_count": 19,
   "metadata": {},
   "outputs": [
    {
     "data": {
      "image/png": "[encoded data removed]",
      "text/plain": [
       "<Figure size 432x288 with 2 Axes>"
      ]
     },
     "metadata": {
      "needs_background": "light"
     },
     "output_type": "display_data"
    }
   ],
   "source": [
    "corrmat = df.corr()\n",
    "f, ax = plt.subplots()\n",
    "sbn.heatmap(corrmat, vmax=1, square=True);"
   ]
  },
  {
   "cell_type": "code",
   "execution_count": 20,
   "metadata": {},
   "outputs": [],
   "source": [
    "df_num = df.select_dtypes([np.number])"
   ]
  },
  {
   "cell_type": "code",
   "execution_count": 22,
   "metadata": {},
   "outputs": [
    {
     "data": {
      "image/png": "[encoded data removed]",
      "text/plain": [
       "<Figure size 432x288 with 2 Axes>"
      ]
     },
     "metadata": {},
     "output_type": "display_data"
    }
   ],
   "source": [
    "k = 12 \n",
    "cols = corrmat.nlargest(k, 'minJug')['minJug'].index\n",
    "cm = np.corrcoef(df[cols].values.T)\n",
    "sbn.set(font_scale=1.25)\n",
    "hm = sbn.heatmap(cm, cbar=True, annot=True, square=True, fmt='.2f', annot_kws={'size': 10}, yticklabels=cols.values, xticklabels=cols.values)\n",
    "plt.show()"
   ]
  },
  {
   "cell_type": "code",
   "execution_count": 23,
   "metadata": {},
   "outputs": [
    {
     "name": "stdout",
     "output_type": "stream",
     "text": [
      "C:\\Users\\DELUX\\Desktop\\publicaciones\\1_DataScoutingClustering\\1_MedioCentroCreativo\\df\n"
     ]
    }
   ],
   "source": [
    "cd C:\\Users\\DELUX\\Desktop\\publicaciones\\1_DataScoutingClustering\\1_MedioCentroCreativo\\df"
   ]
  },
  {
   "cell_type": "code",
   "execution_count": 24,
   "metadata": {},
   "outputs": [],
   "source": [
    "df.to_csv('df.csv',encoding='utf-8', index=False,decimal=',')"
   ]
  }
 ],
 "metadata": {
  "kernelspec": {
   "display_name": "Python 3",
   "language": "python",
   "name": "python3"
  },
  "language_info": {
   "codemirror_mode": {
    "name": "ipython",
    "version": 3
   },
   "file_extension": ".py",
   "mimetype": "text/x-python",
   "name": "python",
   "nbconvert_exporter": "python",
   "pygments_lexer": "ipython3",
   "version": "3.7.1"
  }
 },
 "nbformat": 4,
 "nbformat_minor": 2
}
