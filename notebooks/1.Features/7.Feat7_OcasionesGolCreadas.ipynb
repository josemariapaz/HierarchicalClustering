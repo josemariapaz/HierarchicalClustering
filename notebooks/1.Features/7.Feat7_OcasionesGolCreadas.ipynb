{
 "cells": [
  {
   "cell_type": "markdown",
   "metadata": {},
   "source": [
    "# Feature 7: ocasiones de gol creadas p90 (asistencias a remates)"
   ]
  },
  {
   "cell_type": "code",
   "execution_count": 1,
   "metadata": {},
   "outputs": [],
   "source": [
    "import pandas as pd\n",
    "import numpy as np"
   ]
  },
  {
   "cell_type": "code",
   "execution_count": 2,
   "metadata": {},
   "outputs": [],
   "source": [
    "pd.set_option('display.max_columns', 100)"
   ]
  },
  {
   "cell_type": "code",
   "execution_count": 3,
   "metadata": {},
   "outputs": [],
   "source": [
    "laLiga = pd.read_csv(r'C:\\Users\\DELUX\\Desktop\\datos_OPTA\\laLiga.csv')"
   ]
  },
  {
   "cell_type": "code",
   "execution_count": 4,
   "metadata": {},
   "outputs": [],
   "source": [
    "jugadas = laLiga[['id_jugador','categoria_evento','fecha','id_evento','id_periodo','minuto','segundo','equipo','calificador','valor','jugador','x','y','outcome']].copy()\n",
    "jugadas['valor'].fillna(True, inplace=True)"
   ]
  },
  {
   "cell_type": "code",
   "execution_count": 5,
   "metadata": {},
   "outputs": [],
   "source": [
    "jugadas.drop(jugadas.index[[177812]], inplace=True)"
   ]
  },
  {
   "cell_type": "code",
   "execution_count": 6,
   "metadata": {},
   "outputs": [],
   "source": [
    "jugadas = jugadas.set_index(['id_jugador','categoria_evento','fecha','id_evento','id_periodo','minuto','segundo','equipo','jugador','x','y','outcome','calificador'])['valor'].unstack()\n",
    "jugadas = jugadas.reset_index().rename_axis(None).rename_axis(None, axis=1)\n",
    "jugadas.fillna(False, inplace=True)"
   ]
  },
  {
   "cell_type": "code",
   "execution_count": 7,
   "metadata": {},
   "outputs": [],
   "source": [
    "jugadas = jugadas[jugadas['jugador']!=False]"
   ]
  },
  {
   "cell_type": "code",
   "execution_count": 8,
   "metadata": {},
   "outputs": [],
   "source": [
    "mtr7 = jugadas[(jugadas['asistencia a remate']==True)&(jugadas['outcome']==1)]"
   ]
  },
  {
   "cell_type": "code",
   "execution_count": 9,
   "metadata": {},
   "outputs": [
    {
     "data": {
      "text/plain": [
       "6456"
      ]
     },
     "execution_count": 9,
     "metadata": {},
     "output_type": "execute_result"
    }
   ],
   "source": [
    "len(mtr7)"
   ]
  },
  {
   "cell_type": "code",
   "execution_count": 10,
   "metadata": {},
   "outputs": [],
   "source": [
    "mtr7 = mtr7[['fecha','id_jugador','jugador','equipo']]"
   ]
  },
  {
   "cell_type": "code",
   "execution_count": 11,
   "metadata": {},
   "outputs": [
    {
     "data": {
      "text/html": [
       "<div>\n",
       "<style scoped>\n",
       "    .dataframe tbody tr th:only-of-type {\n",
       "        vertical-align: middle;\n",
       "    }\n",
       "\n",
       "    .dataframe tbody tr th {\n",
       "        vertical-align: top;\n",
       "    }\n",
       "\n",
       "    .dataframe thead th {\n",
       "        text-align: right;\n",
       "    }\n",
       "</style>\n",
       "<table border=\"1\" class=\"dataframe\">\n",
       "  <thead>\n",
       "    <tr style=\"text-align: right;\">\n",
       "      <th></th>\n",
       "      <th>fecha</th>\n",
       "      <th>id_jugador</th>\n",
       "      <th>jugador</th>\n",
       "      <th>equipo</th>\n",
       "    </tr>\n",
       "  </thead>\n",
       "  <tbody>\n",
       "    <tr>\n",
       "      <th>11294</th>\n",
       "      <td>5</td>\n",
       "      <td>10316</td>\n",
       "      <td>Joaquín Sánchez Rodríguez</td>\n",
       "      <td>Real Betis</td>\n",
       "    </tr>\n",
       "    <tr>\n",
       "      <th>11341</th>\n",
       "      <td>7</td>\n",
       "      <td>10316</td>\n",
       "      <td>Joaquín Sánchez Rodríguez</td>\n",
       "      <td>Real Betis</td>\n",
       "    </tr>\n",
       "    <tr>\n",
       "      <th>11359</th>\n",
       "      <td>7</td>\n",
       "      <td>10316</td>\n",
       "      <td>Joaquín Sánchez Rodríguez</td>\n",
       "      <td>Real Betis</td>\n",
       "    </tr>\n",
       "    <tr>\n",
       "      <th>11363</th>\n",
       "      <td>7</td>\n",
       "      <td>10316</td>\n",
       "      <td>Joaquín Sánchez Rodríguez</td>\n",
       "      <td>Real Betis</td>\n",
       "    </tr>\n",
       "    <tr>\n",
       "      <th>11374</th>\n",
       "      <td>7</td>\n",
       "      <td>10316</td>\n",
       "      <td>Joaquín Sánchez Rodríguez</td>\n",
       "      <td>Real Betis</td>\n",
       "    </tr>\n",
       "  </tbody>\n",
       "</table>\n",
       "</div>"
      ],
      "text/plain": [
       "       fecha id_jugador                    jugador      equipo\n",
       "11294      5      10316  Joaquín Sánchez Rodríguez  Real Betis\n",
       "11341      7      10316  Joaquín Sánchez Rodríguez  Real Betis\n",
       "11359      7      10316  Joaquín Sánchez Rodríguez  Real Betis\n",
       "11363      7      10316  Joaquín Sánchez Rodríguez  Real Betis\n",
       "11374      7      10316  Joaquín Sánchez Rodríguez  Real Betis"
      ]
     },
     "execution_count": 11,
     "metadata": {},
     "output_type": "execute_result"
    }
   ],
   "source": [
    "mtr7.head()"
   ]
  },
  {
   "cell_type": "code",
   "execution_count": 12,
   "metadata": {},
   "outputs": [],
   "source": [
    "mtr7 = mtr7.groupby(['id_jugador','jugador','equipo']).count().rename(columns={'fecha':'mtr7'}).reset_index()"
   ]
  },
  {
   "cell_type": "code",
   "execution_count": 13,
   "metadata": {},
   "outputs": [
    {
     "data": {
      "text/html": [
       "<div>\n",
       "<style scoped>\n",
       "    .dataframe tbody tr th:only-of-type {\n",
       "        vertical-align: middle;\n",
       "    }\n",
       "\n",
       "    .dataframe tbody tr th {\n",
       "        vertical-align: top;\n",
       "    }\n",
       "\n",
       "    .dataframe thead th {\n",
       "        text-align: right;\n",
       "    }\n",
       "</style>\n",
       "<table border=\"1\" class=\"dataframe\">\n",
       "  <thead>\n",
       "    <tr style=\"text-align: right;\">\n",
       "      <th></th>\n",
       "      <th>id_jugador</th>\n",
       "      <th>jugador</th>\n",
       "      <th>equipo</th>\n",
       "      <th>mtr7</th>\n",
       "    </tr>\n",
       "  </thead>\n",
       "  <tbody>\n",
       "    <tr>\n",
       "      <th>0</th>\n",
       "      <td>10316.0</td>\n",
       "      <td>Joaquín Sánchez Rodríguez</td>\n",
       "      <td>Real Betis</td>\n",
       "      <td>44</td>\n",
       "    </tr>\n",
       "    <tr>\n",
       "      <th>1</th>\n",
       "      <td>11129.0</td>\n",
       "      <td>David López</td>\n",
       "      <td>Espanyol</td>\n",
       "      <td>4</td>\n",
       "    </tr>\n",
       "    <tr>\n",
       "      <th>2</th>\n",
       "      <td>11602.0</td>\n",
       "      <td>Borja Fernández</td>\n",
       "      <td>Real Valladolid</td>\n",
       "      <td>1</td>\n",
       "    </tr>\n",
       "    <tr>\n",
       "      <th>3</th>\n",
       "      <td>14028.0</td>\n",
       "      <td>Juan José Camacho Barnola</td>\n",
       "      <td>Huesca</td>\n",
       "      <td>1</td>\n",
       "    </tr>\n",
       "    <tr>\n",
       "      <th>4</th>\n",
       "      <td>14464.0</td>\n",
       "      <td>Aritz Aduriz</td>\n",
       "      <td>Athletic Club</td>\n",
       "      <td>7</td>\n",
       "    </tr>\n",
       "  </tbody>\n",
       "</table>\n",
       "</div>"
      ],
      "text/plain": [
       "   id_jugador                    jugador           equipo  mtr7\n",
       "0     10316.0  Joaquín Sánchez Rodríguez       Real Betis    44\n",
       "1     11129.0                David López         Espanyol     4\n",
       "2     11602.0            Borja Fernández  Real Valladolid     1\n",
       "3     14028.0  Juan José Camacho Barnola           Huesca     1\n",
       "4     14464.0               Aritz Aduriz    Athletic Club     7"
      ]
     },
     "execution_count": 13,
     "metadata": {},
     "output_type": "execute_result"
    }
   ],
   "source": [
    "mtr7.head()"
   ]
  },
  {
   "cell_type": "code",
   "execution_count": 14,
   "metadata": {},
   "outputs": [
    {
     "data": {
      "text/html": [
       "<div>\n",
       "<style scoped>\n",
       "    .dataframe tbody tr th:only-of-type {\n",
       "        vertical-align: middle;\n",
       "    }\n",
       "\n",
       "    .dataframe tbody tr th {\n",
       "        vertical-align: top;\n",
       "    }\n",
       "\n",
       "    .dataframe thead th {\n",
       "        text-align: right;\n",
       "    }\n",
       "</style>\n",
       "<table border=\"1\" class=\"dataframe\">\n",
       "  <thead>\n",
       "    <tr style=\"text-align: right;\">\n",
       "      <th></th>\n",
       "      <th>id_jugador</th>\n",
       "      <th>jugador</th>\n",
       "      <th>equipo</th>\n",
       "      <th>mtr7</th>\n",
       "    </tr>\n",
       "  </thead>\n",
       "  <tbody>\n",
       "    <tr>\n",
       "      <th>16</th>\n",
       "      <td>19054.0</td>\n",
       "      <td>Lionel Messi</td>\n",
       "      <td>Barcelona</td>\n",
       "      <td>91</td>\n",
       "    </tr>\n",
       "    <tr>\n",
       "      <th>201</th>\n",
       "      <td>92190.0</td>\n",
       "      <td>Jonathan Rodríguez Menéndez</td>\n",
       "      <td>Alavés</td>\n",
       "      <td>84</td>\n",
       "    </tr>\n",
       "    <tr>\n",
       "      <th>64</th>\n",
       "      <td>51952.0</td>\n",
       "      <td>Daniel Parejo</td>\n",
       "      <td>Valencia CF</td>\n",
       "      <td>79</td>\n",
       "    </tr>\n",
       "    <tr>\n",
       "      <th>119</th>\n",
       "      <td>76650.0</td>\n",
       "      <td>Antoine Griezmann</td>\n",
       "      <td>Atlético de Madrid</td>\n",
       "      <td>72</td>\n",
       "    </tr>\n",
       "    <tr>\n",
       "      <th>17</th>\n",
       "      <td>19524.0</td>\n",
       "      <td>Santiago Cazorla</td>\n",
       "      <td>Villarreal</td>\n",
       "      <td>70</td>\n",
       "    </tr>\n",
       "  </tbody>\n",
       "</table>\n",
       "</div>"
      ],
      "text/plain": [
       "     id_jugador                      jugador              equipo  mtr7\n",
       "16      19054.0                 Lionel Messi           Barcelona    91\n",
       "201     92190.0  Jonathan Rodríguez Menéndez              Alavés    84\n",
       "64      51952.0                Daniel Parejo         Valencia CF    79\n",
       "119     76650.0            Antoine Griezmann  Atlético de Madrid    72\n",
       "17      19524.0             Santiago Cazorla          Villarreal    70"
      ]
     },
     "execution_count": 14,
     "metadata": {},
     "output_type": "execute_result"
    }
   ],
   "source": [
    "mtr7.sort_values('mtr7',ascending=False).head()"
   ]
  },
  {
   "cell_type": "code",
   "execution_count": 15,
   "metadata": {},
   "outputs": [
    {
     "data": {
      "text/html": [
       "<div>\n",
       "<style scoped>\n",
       "    .dataframe tbody tr th:only-of-type {\n",
       "        vertical-align: middle;\n",
       "    }\n",
       "\n",
       "    .dataframe tbody tr th {\n",
       "        vertical-align: top;\n",
       "    }\n",
       "\n",
       "    .dataframe thead th {\n",
       "        text-align: right;\n",
       "    }\n",
       "</style>\n",
       "<table border=\"1\" class=\"dataframe\">\n",
       "  <thead>\n",
       "    <tr style=\"text-align: right;\">\n",
       "      <th></th>\n",
       "      <th>id_jugador</th>\n",
       "      <th>jugador</th>\n",
       "      <th>equipo</th>\n",
       "      <th>mtr7</th>\n",
       "    </tr>\n",
       "  </thead>\n",
       "  <tbody>\n",
       "    <tr>\n",
       "      <th>13</th>\n",
       "      <td>18498.0</td>\n",
       "      <td>Raúl García</td>\n",
       "      <td>Athletic Club</td>\n",
       "      <td>23</td>\n",
       "    </tr>\n",
       "    <tr>\n",
       "      <th>134</th>\n",
       "      <td>80908.0</td>\n",
       "      <td>Raúl García</td>\n",
       "      <td>Girona</td>\n",
       "      <td>6</td>\n",
       "    </tr>\n",
       "  </tbody>\n",
       "</table>\n",
       "</div>"
      ],
      "text/plain": [
       "     id_jugador      jugador         equipo  mtr7\n",
       "13      18498.0  Raúl García  Athletic Club    23\n",
       "134     80908.0  Raúl García         Girona     6"
      ]
     },
     "execution_count": 15,
     "metadata": {},
     "output_type": "execute_result"
    }
   ],
   "source": [
    "mtr7[mtr7['jugador']=='Raúl García']"
   ]
  },
  {
   "cell_type": "code",
   "execution_count": 16,
   "metadata": {},
   "outputs": [],
   "source": [
    "dataAggJug = pd.read_csv(r'C:\\Users\\DELUX\\Desktop\\consultoria_futbol\\comparativoJugadores\\dataAggJug.csv')"
   ]
  },
  {
   "cell_type": "code",
   "execution_count": 17,
   "metadata": {},
   "outputs": [
    {
     "data": {
      "text/html": [
       "<div>\n",
       "<style scoped>\n",
       "    .dataframe tbody tr th:only-of-type {\n",
       "        vertical-align: middle;\n",
       "    }\n",
       "\n",
       "    .dataframe tbody tr th {\n",
       "        vertical-align: top;\n",
       "    }\n",
       "\n",
       "    .dataframe thead th {\n",
       "        text-align: right;\n",
       "    }\n",
       "</style>\n",
       "<table border=\"1\" class=\"dataframe\">\n",
       "  <thead>\n",
       "    <tr style=\"text-align: right;\">\n",
       "      <th></th>\n",
       "      <th>fecha</th>\n",
       "      <th>id_jugador</th>\n",
       "      <th>estadistica</th>\n",
       "      <th>num_estadistica</th>\n",
       "      <th>jugador</th>\n",
       "    </tr>\n",
       "  </thead>\n",
       "  <tbody>\n",
       "    <tr>\n",
       "      <th>0</th>\n",
       "      <td>1</td>\n",
       "      <td>212769</td>\n",
       "      <td>diving_save</td>\n",
       "      <td>1</td>\n",
       "      <td>Unai Simón</td>\n",
       "    </tr>\n",
       "    <tr>\n",
       "      <th>1</th>\n",
       "      <td>1</td>\n",
       "      <td>212769</td>\n",
       "      <td>leftside_pass</td>\n",
       "      <td>2</td>\n",
       "      <td>Unai Simón</td>\n",
       "    </tr>\n",
       "    <tr>\n",
       "      <th>2</th>\n",
       "      <td>1</td>\n",
       "      <td>212769</td>\n",
       "      <td>accurate_pass</td>\n",
       "      <td>10</td>\n",
       "      <td>Unai Simón</td>\n",
       "    </tr>\n",
       "    <tr>\n",
       "      <th>3</th>\n",
       "      <td>1</td>\n",
       "      <td>212769</td>\n",
       "      <td>rightside_pass</td>\n",
       "      <td>1</td>\n",
       "      <td>Unai Simón</td>\n",
       "    </tr>\n",
       "    <tr>\n",
       "      <th>4</th>\n",
       "      <td>1</td>\n",
       "      <td>212769</td>\n",
       "      <td>attempts_conceded_ibox</td>\n",
       "      <td>9</td>\n",
       "      <td>Unai Simón</td>\n",
       "    </tr>\n",
       "  </tbody>\n",
       "</table>\n",
       "</div>"
      ],
      "text/plain": [
       "   fecha  id_jugador             estadistica  num_estadistica     jugador\n",
       "0      1      212769             diving_save                1  Unai Simón\n",
       "1      1      212769           leftside_pass                2  Unai Simón\n",
       "2      1      212769           accurate_pass               10  Unai Simón\n",
       "3      1      212769          rightside_pass                1  Unai Simón\n",
       "4      1      212769  attempts_conceded_ibox                9  Unai Simón"
      ]
     },
     "execution_count": 17,
     "metadata": {},
     "output_type": "execute_result"
    }
   ],
   "source": [
    "dataAggJug.head()"
   ]
  },
  {
   "cell_type": "code",
   "execution_count": 18,
   "metadata": {},
   "outputs": [],
   "source": [
    "minJug = dataAggJug[dataAggJug['estadistica']=='mins_played']"
   ]
  },
  {
   "cell_type": "code",
   "execution_count": 19,
   "metadata": {},
   "outputs": [
    {
     "data": {
      "text/html": [
       "<div>\n",
       "<style scoped>\n",
       "    .dataframe tbody tr th:only-of-type {\n",
       "        vertical-align: middle;\n",
       "    }\n",
       "\n",
       "    .dataframe tbody tr th {\n",
       "        vertical-align: top;\n",
       "    }\n",
       "\n",
       "    .dataframe thead th {\n",
       "        text-align: right;\n",
       "    }\n",
       "</style>\n",
       "<table border=\"1\" class=\"dataframe\">\n",
       "  <thead>\n",
       "    <tr style=\"text-align: right;\">\n",
       "      <th></th>\n",
       "      <th>fecha</th>\n",
       "      <th>id_jugador</th>\n",
       "      <th>estadistica</th>\n",
       "      <th>num_estadistica</th>\n",
       "      <th>jugador</th>\n",
       "    </tr>\n",
       "  </thead>\n",
       "  <tbody>\n",
       "    <tr>\n",
       "      <th>34</th>\n",
       "      <td>1</td>\n",
       "      <td>212769</td>\n",
       "      <td>mins_played</td>\n",
       "      <td>90</td>\n",
       "      <td>Unai Simón</td>\n",
       "    </tr>\n",
       "    <tr>\n",
       "      <th>111</th>\n",
       "      <td>1</td>\n",
       "      <td>59062</td>\n",
       "      <td>mins_played</td>\n",
       "      <td>65</td>\n",
       "      <td>Óscar De Marcos</td>\n",
       "    </tr>\n",
       "    <tr>\n",
       "      <th>180</th>\n",
       "      <td>1</td>\n",
       "      <td>197319</td>\n",
       "      <td>mins_played</td>\n",
       "      <td>90</td>\n",
       "      <td>Yeray Álvarez</td>\n",
       "    </tr>\n",
       "    <tr>\n",
       "      <th>249</th>\n",
       "      <td>1</td>\n",
       "      <td>242831</td>\n",
       "      <td>mins_played</td>\n",
       "      <td>90</td>\n",
       "      <td>Peru Nolaskoain</td>\n",
       "    </tr>\n",
       "    <tr>\n",
       "      <th>328</th>\n",
       "      <td>1</td>\n",
       "      <td>42670</td>\n",
       "      <td>mins_played</td>\n",
       "      <td>90</td>\n",
       "      <td>Yuri Berchiche Izeta</td>\n",
       "    </tr>\n",
       "  </tbody>\n",
       "</table>\n",
       "</div>"
      ],
      "text/plain": [
       "     fecha  id_jugador  estadistica  num_estadistica               jugador\n",
       "34       1      212769  mins_played               90            Unai Simón\n",
       "111      1       59062  mins_played               65       Óscar De Marcos\n",
       "180      1      197319  mins_played               90         Yeray Álvarez\n",
       "249      1      242831  mins_played               90       Peru Nolaskoain\n",
       "328      1       42670  mins_played               90  Yuri Berchiche Izeta"
      ]
     },
     "execution_count": 19,
     "metadata": {},
     "output_type": "execute_result"
    }
   ],
   "source": [
    "minJug.head()"
   ]
  },
  {
   "cell_type": "code",
   "execution_count": 20,
   "metadata": {},
   "outputs": [],
   "source": [
    "minJug = minJug.drop('estadistica',1).rename(columns={'num_estadistica':'minJug'})"
   ]
  },
  {
   "cell_type": "code",
   "execution_count": 21,
   "metadata": {},
   "outputs": [
    {
     "data": {
      "text/html": [
       "<div>\n",
       "<style scoped>\n",
       "    .dataframe tbody tr th:only-of-type {\n",
       "        vertical-align: middle;\n",
       "    }\n",
       "\n",
       "    .dataframe tbody tr th {\n",
       "        vertical-align: top;\n",
       "    }\n",
       "\n",
       "    .dataframe thead th {\n",
       "        text-align: right;\n",
       "    }\n",
       "</style>\n",
       "<table border=\"1\" class=\"dataframe\">\n",
       "  <thead>\n",
       "    <tr style=\"text-align: right;\">\n",
       "      <th></th>\n",
       "      <th>fecha</th>\n",
       "      <th>id_jugador</th>\n",
       "      <th>minJug</th>\n",
       "      <th>jugador</th>\n",
       "    </tr>\n",
       "  </thead>\n",
       "  <tbody>\n",
       "    <tr>\n",
       "      <th>34</th>\n",
       "      <td>1</td>\n",
       "      <td>212769</td>\n",
       "      <td>90</td>\n",
       "      <td>Unai Simón</td>\n",
       "    </tr>\n",
       "    <tr>\n",
       "      <th>111</th>\n",
       "      <td>1</td>\n",
       "      <td>59062</td>\n",
       "      <td>65</td>\n",
       "      <td>Óscar De Marcos</td>\n",
       "    </tr>\n",
       "    <tr>\n",
       "      <th>180</th>\n",
       "      <td>1</td>\n",
       "      <td>197319</td>\n",
       "      <td>90</td>\n",
       "      <td>Yeray Álvarez</td>\n",
       "    </tr>\n",
       "    <tr>\n",
       "      <th>249</th>\n",
       "      <td>1</td>\n",
       "      <td>242831</td>\n",
       "      <td>90</td>\n",
       "      <td>Peru Nolaskoain</td>\n",
       "    </tr>\n",
       "    <tr>\n",
       "      <th>328</th>\n",
       "      <td>1</td>\n",
       "      <td>42670</td>\n",
       "      <td>90</td>\n",
       "      <td>Yuri Berchiche Izeta</td>\n",
       "    </tr>\n",
       "  </tbody>\n",
       "</table>\n",
       "</div>"
      ],
      "text/plain": [
       "     fecha  id_jugador  minJug               jugador\n",
       "34       1      212769      90            Unai Simón\n",
       "111      1       59062      65       Óscar De Marcos\n",
       "180      1      197319      90         Yeray Álvarez\n",
       "249      1      242831      90       Peru Nolaskoain\n",
       "328      1       42670      90  Yuri Berchiche Izeta"
      ]
     },
     "execution_count": 21,
     "metadata": {},
     "output_type": "execute_result"
    }
   ],
   "source": [
    "minJug.head()"
   ]
  },
  {
   "cell_type": "code",
   "execution_count": 22,
   "metadata": {},
   "outputs": [],
   "source": [
    "minJug = minJug.groupby(['id_jugador','jugador']).sum().reset_index().drop('fecha',1)"
   ]
  },
  {
   "cell_type": "code",
   "execution_count": 23,
   "metadata": {},
   "outputs": [
    {
     "data": {
      "text/html": [
       "<div>\n",
       "<style scoped>\n",
       "    .dataframe tbody tr th:only-of-type {\n",
       "        vertical-align: middle;\n",
       "    }\n",
       "\n",
       "    .dataframe tbody tr th {\n",
       "        vertical-align: top;\n",
       "    }\n",
       "\n",
       "    .dataframe thead th {\n",
       "        text-align: right;\n",
       "    }\n",
       "</style>\n",
       "<table border=\"1\" class=\"dataframe\">\n",
       "  <thead>\n",
       "    <tr style=\"text-align: right;\">\n",
       "      <th></th>\n",
       "      <th>id_jugador</th>\n",
       "      <th>jugador</th>\n",
       "      <th>minJug</th>\n",
       "    </tr>\n",
       "  </thead>\n",
       "  <tbody>\n",
       "    <tr>\n",
       "      <th>0</th>\n",
       "      <td>7261</td>\n",
       "      <td>Daniele Bonera</td>\n",
       "      <td>233</td>\n",
       "    </tr>\n",
       "    <tr>\n",
       "      <th>1</th>\n",
       "      <td>10316</td>\n",
       "      <td>Joaquín Sánchez Rodríguez</td>\n",
       "      <td>1694</td>\n",
       "    </tr>\n",
       "    <tr>\n",
       "      <th>2</th>\n",
       "      <td>11129</td>\n",
       "      <td>David López</td>\n",
       "      <td>1820</td>\n",
       "    </tr>\n",
       "    <tr>\n",
       "      <th>3</th>\n",
       "      <td>11602</td>\n",
       "      <td>Borja Fernández</td>\n",
       "      <td>839</td>\n",
       "    </tr>\n",
       "    <tr>\n",
       "      <th>4</th>\n",
       "      <td>14028</td>\n",
       "      <td>Juan José Camacho Barnola</td>\n",
       "      <td>34</td>\n",
       "    </tr>\n",
       "  </tbody>\n",
       "</table>\n",
       "</div>"
      ],
      "text/plain": [
       "   id_jugador                    jugador  minJug\n",
       "0        7261             Daniele Bonera     233\n",
       "1       10316  Joaquín Sánchez Rodríguez    1694\n",
       "2       11129                David López    1820\n",
       "3       11602            Borja Fernández     839\n",
       "4       14028  Juan José Camacho Barnola      34"
      ]
     },
     "execution_count": 23,
     "metadata": {},
     "output_type": "execute_result"
    }
   ],
   "source": [
    "minJug.head()"
   ]
  },
  {
   "cell_type": "code",
   "execution_count": 24,
   "metadata": {},
   "outputs": [],
   "source": [
    "mtr7x90 = minJug.merge(mtr7,on=['id_jugador','jugador'],how='left') #Hacemos left join para tener tabla con minutos jugados por jugador por fecha\n",
    "mtr7x90['mtr7x90'] = mtr7x90['mtr7']/mtr7x90['minJug']*90 #Creamos mtr2x90\n",
    "mtr7x90 = mtr7x90.drop(['mtr7','minJug'],1)"
   ]
  },
  {
   "cell_type": "code",
   "execution_count": 25,
   "metadata": {},
   "outputs": [
    {
     "data": {
      "text/html": [
       "<div>\n",
       "<style scoped>\n",
       "    .dataframe tbody tr th:only-of-type {\n",
       "        vertical-align: middle;\n",
       "    }\n",
       "\n",
       "    .dataframe tbody tr th {\n",
       "        vertical-align: top;\n",
       "    }\n",
       "\n",
       "    .dataframe thead th {\n",
       "        text-align: right;\n",
       "    }\n",
       "</style>\n",
       "<table border=\"1\" class=\"dataframe\">\n",
       "  <thead>\n",
       "    <tr style=\"text-align: right;\">\n",
       "      <th></th>\n",
       "      <th>id_jugador</th>\n",
       "      <th>jugador</th>\n",
       "      <th>equipo</th>\n",
       "      <th>mtr7x90</th>\n",
       "    </tr>\n",
       "  </thead>\n",
       "  <tbody>\n",
       "    <tr>\n",
       "      <th>0</th>\n",
       "      <td>7261</td>\n",
       "      <td>Daniele Bonera</td>\n",
       "      <td>NaN</td>\n",
       "      <td>NaN</td>\n",
       "    </tr>\n",
       "    <tr>\n",
       "      <th>1</th>\n",
       "      <td>10316</td>\n",
       "      <td>Joaquín Sánchez Rodríguez</td>\n",
       "      <td>Real Betis</td>\n",
       "      <td>2.337662</td>\n",
       "    </tr>\n",
       "    <tr>\n",
       "      <th>2</th>\n",
       "      <td>11129</td>\n",
       "      <td>David López</td>\n",
       "      <td>Espanyol</td>\n",
       "      <td>0.197802</td>\n",
       "    </tr>\n",
       "    <tr>\n",
       "      <th>3</th>\n",
       "      <td>11602</td>\n",
       "      <td>Borja Fernández</td>\n",
       "      <td>Real Valladolid</td>\n",
       "      <td>0.107271</td>\n",
       "    </tr>\n",
       "    <tr>\n",
       "      <th>4</th>\n",
       "      <td>14028</td>\n",
       "      <td>Juan José Camacho Barnola</td>\n",
       "      <td>Huesca</td>\n",
       "      <td>2.647059</td>\n",
       "    </tr>\n",
       "  </tbody>\n",
       "</table>\n",
       "</div>"
      ],
      "text/plain": [
       "   id_jugador                    jugador           equipo   mtr7x90\n",
       "0        7261             Daniele Bonera              NaN       NaN\n",
       "1       10316  Joaquín Sánchez Rodríguez       Real Betis  2.337662\n",
       "2       11129                David López         Espanyol  0.197802\n",
       "3       11602            Borja Fernández  Real Valladolid  0.107271\n",
       "4       14028  Juan José Camacho Barnola           Huesca  2.647059"
      ]
     },
     "execution_count": 25,
     "metadata": {},
     "output_type": "execute_result"
    }
   ],
   "source": [
    "mtr7x90.head()"
   ]
  },
  {
   "cell_type": "code",
   "execution_count": 26,
   "metadata": {},
   "outputs": [
    {
     "data": {
      "text/plain": [
       "id_jugador     0\n",
       "jugador        0\n",
       "equipo        89\n",
       "mtr7x90       89\n",
       "dtype: int64"
      ]
     },
     "execution_count": 26,
     "metadata": {},
     "output_type": "execute_result"
    }
   ],
   "source": [
    "mtr7x90.isnull().sum()"
   ]
  },
  {
   "cell_type": "code",
   "execution_count": 27,
   "metadata": {},
   "outputs": [],
   "source": [
    "mtr7x90['mtr7x90'] = mtr7x90['mtr7x90'].replace(np.nan, 0)"
   ]
  },
  {
   "cell_type": "code",
   "execution_count": 28,
   "metadata": {},
   "outputs": [
    {
     "data": {
      "text/plain": [
       "id_jugador     0\n",
       "jugador        0\n",
       "equipo        89\n",
       "mtr7x90        0\n",
       "dtype: int64"
      ]
     },
     "execution_count": 28,
     "metadata": {},
     "output_type": "execute_result"
    }
   ],
   "source": [
    "mtr7x90.isnull().sum()"
   ]
  },
  {
   "cell_type": "code",
   "execution_count": 29,
   "metadata": {},
   "outputs": [],
   "source": [
    "feat7 = mtr7x90.copy()\n",
    "feat7 = feat7.rename(columns={'mtr7x90':'feat7'})"
   ]
  },
  {
   "cell_type": "code",
   "execution_count": 30,
   "metadata": {},
   "outputs": [
    {
     "data": {
      "text/html": [
       "<div>\n",
       "<style scoped>\n",
       "    .dataframe tbody tr th:only-of-type {\n",
       "        vertical-align: middle;\n",
       "    }\n",
       "\n",
       "    .dataframe tbody tr th {\n",
       "        vertical-align: top;\n",
       "    }\n",
       "\n",
       "    .dataframe thead th {\n",
       "        text-align: right;\n",
       "    }\n",
       "</style>\n",
       "<table border=\"1\" class=\"dataframe\">\n",
       "  <thead>\n",
       "    <tr style=\"text-align: right;\">\n",
       "      <th></th>\n",
       "      <th>id_jugador</th>\n",
       "      <th>jugador</th>\n",
       "      <th>equipo</th>\n",
       "      <th>feat7</th>\n",
       "    </tr>\n",
       "  </thead>\n",
       "  <tbody>\n",
       "    <tr>\n",
       "      <th>0</th>\n",
       "      <td>7261</td>\n",
       "      <td>Daniele Bonera</td>\n",
       "      <td>NaN</td>\n",
       "      <td>0.000000</td>\n",
       "    </tr>\n",
       "    <tr>\n",
       "      <th>1</th>\n",
       "      <td>10316</td>\n",
       "      <td>Joaquín Sánchez Rodríguez</td>\n",
       "      <td>Real Betis</td>\n",
       "      <td>2.337662</td>\n",
       "    </tr>\n",
       "    <tr>\n",
       "      <th>2</th>\n",
       "      <td>11129</td>\n",
       "      <td>David López</td>\n",
       "      <td>Espanyol</td>\n",
       "      <td>0.197802</td>\n",
       "    </tr>\n",
       "    <tr>\n",
       "      <th>3</th>\n",
       "      <td>11602</td>\n",
       "      <td>Borja Fernández</td>\n",
       "      <td>Real Valladolid</td>\n",
       "      <td>0.107271</td>\n",
       "    </tr>\n",
       "    <tr>\n",
       "      <th>4</th>\n",
       "      <td>14028</td>\n",
       "      <td>Juan José Camacho Barnola</td>\n",
       "      <td>Huesca</td>\n",
       "      <td>2.647059</td>\n",
       "    </tr>\n",
       "  </tbody>\n",
       "</table>\n",
       "</div>"
      ],
      "text/plain": [
       "   id_jugador                    jugador           equipo     feat7\n",
       "0        7261             Daniele Bonera              NaN  0.000000\n",
       "1       10316  Joaquín Sánchez Rodríguez       Real Betis  2.337662\n",
       "2       11129                David López         Espanyol  0.197802\n",
       "3       11602            Borja Fernández  Real Valladolid  0.107271\n",
       "4       14028  Juan José Camacho Barnola           Huesca  2.647059"
      ]
     },
     "execution_count": 30,
     "metadata": {},
     "output_type": "execute_result"
    }
   ],
   "source": [
    "feat7.head()"
   ]
  },
  {
   "cell_type": "code",
   "execution_count": 31,
   "metadata": {},
   "outputs": [
    {
     "data": {
      "text/plain": [
       "id_jugador     0\n",
       "jugador        0\n",
       "equipo        89\n",
       "feat7          0\n",
       "dtype: int64"
      ]
     },
     "execution_count": 31,
     "metadata": {},
     "output_type": "execute_result"
    }
   ],
   "source": [
    "feat7.isnull().sum()"
   ]
  },
  {
   "cell_type": "code",
   "execution_count": 32,
   "metadata": {},
   "outputs": [
    {
     "data": {
      "text/html": [
       "<div>\n",
       "<style scoped>\n",
       "    .dataframe tbody tr th:only-of-type {\n",
       "        vertical-align: middle;\n",
       "    }\n",
       "\n",
       "    .dataframe tbody tr th {\n",
       "        vertical-align: top;\n",
       "    }\n",
       "\n",
       "    .dataframe thead th {\n",
       "        text-align: right;\n",
       "    }\n",
       "</style>\n",
       "<table border=\"1\" class=\"dataframe\">\n",
       "  <thead>\n",
       "    <tr style=\"text-align: right;\">\n",
       "      <th></th>\n",
       "      <th>id_jugador</th>\n",
       "      <th>jugador</th>\n",
       "      <th>equipo</th>\n",
       "      <th>feat7</th>\n",
       "    </tr>\n",
       "  </thead>\n",
       "  <tbody>\n",
       "    <tr>\n",
       "      <th>539</th>\n",
       "      <td>481655</td>\n",
       "      <td>Martín Zubimendi</td>\n",
       "      <td>Real Sociedad</td>\n",
       "      <td>15.000000</td>\n",
       "    </tr>\n",
       "    <tr>\n",
       "      <th>215</th>\n",
       "      <td>89572</td>\n",
       "      <td>Denis Suárez</td>\n",
       "      <td>Barcelona</td>\n",
       "      <td>5.294118</td>\n",
       "    </tr>\n",
       "    <tr>\n",
       "      <th>526</th>\n",
       "      <td>451358</td>\n",
       "      <td>Kang-In Lee</td>\n",
       "      <td>Valencia CF</td>\n",
       "      <td>4.285714</td>\n",
       "    </tr>\n",
       "    <tr>\n",
       "      <th>477</th>\n",
       "      <td>227165</td>\n",
       "      <td>Abel Ruiz</td>\n",
       "      <td>Barcelona</td>\n",
       "      <td>4.285714</td>\n",
       "    </tr>\n",
       "    <tr>\n",
       "      <th>462</th>\n",
       "      <td>220182</td>\n",
       "      <td>Gorka Guruzeta</td>\n",
       "      <td>Athletic Club</td>\n",
       "      <td>4.000000</td>\n",
       "    </tr>\n",
       "    <tr>\n",
       "      <th>431</th>\n",
       "      <td>203151</td>\n",
       "      <td>Kevin Soni</td>\n",
       "      <td>Girona</td>\n",
       "      <td>3.461538</td>\n",
       "    </tr>\n",
       "    <tr>\n",
       "      <th>22</th>\n",
       "      <td>19054</td>\n",
       "      <td>Lionel Messi</td>\n",
       "      <td>Barcelona</td>\n",
       "      <td>3.022140</td>\n",
       "    </tr>\n",
       "    <tr>\n",
       "      <th>4</th>\n",
       "      <td>14028</td>\n",
       "      <td>Juan José Camacho Barnola</td>\n",
       "      <td>Huesca</td>\n",
       "      <td>2.647059</td>\n",
       "    </tr>\n",
       "    <tr>\n",
       "      <th>166</th>\n",
       "      <td>81033</td>\n",
       "      <td>Nicola Sansone</td>\n",
       "      <td>Villarreal</td>\n",
       "      <td>2.647059</td>\n",
       "    </tr>\n",
       "    <tr>\n",
       "      <th>58</th>\n",
       "      <td>44989</td>\n",
       "      <td>Toni Kroos</td>\n",
       "      <td>Real Madrid</td>\n",
       "      <td>2.586439</td>\n",
       "    </tr>\n",
       "  </tbody>\n",
       "</table>\n",
       "</div>"
      ],
      "text/plain": [
       "     id_jugador                    jugador         equipo      feat7\n",
       "539      481655           Martín Zubimendi  Real Sociedad  15.000000\n",
       "215       89572               Denis Suárez      Barcelona   5.294118\n",
       "526      451358                Kang-In Lee    Valencia CF   4.285714\n",
       "477      227165                  Abel Ruiz      Barcelona   4.285714\n",
       "462      220182             Gorka Guruzeta  Athletic Club   4.000000\n",
       "431      203151                 Kevin Soni         Girona   3.461538\n",
       "22        19054               Lionel Messi      Barcelona   3.022140\n",
       "4         14028  Juan José Camacho Barnola         Huesca   2.647059\n",
       "166       81033             Nicola Sansone     Villarreal   2.647059\n",
       "58        44989                 Toni Kroos    Real Madrid   2.586439"
      ]
     },
     "execution_count": 32,
     "metadata": {},
     "output_type": "execute_result"
    }
   ],
   "source": [
    "feat7.sort_values('feat7',ascending=False).head(10)"
   ]
  },
  {
   "cell_type": "code",
   "execution_count": 33,
   "metadata": {},
   "outputs": [
    {
     "name": "stdout",
     "output_type": "stream",
     "text": [
      "C:\\Users\\DELUX\\Desktop\\publicaciones\\1_DataScoutingClustering\\1_MedioCentroCreativo\\df\n"
     ]
    }
   ],
   "source": [
    "cd C:\\Users\\DELUX\\Desktop\\publicaciones\\1_DataScoutingClustering\\1_MedioCentroCreativo\\df"
   ]
  },
  {
   "cell_type": "code",
   "execution_count": 34,
   "metadata": {},
   "outputs": [],
   "source": [
    "feat7.to_csv('feat7.csv',encoding='utf-8', index=False,decimal=',')"
   ]
  }
 ],
 "metadata": {
  "kernelspec": {
   "display_name": "Python 3",
   "language": "python",
   "name": "python3"
  },
  "language_info": {
   "codemirror_mode": {
    "name": "ipython",
    "version": 3
   },
   "file_extension": ".py",
   "mimetype": "text/x-python",
   "name": "python",
   "nbconvert_exporter": "python",
   "pygments_lexer": "ipython3",
   "version": "3.7.1"
  }
 },
 "nbformat": 4,
 "nbformat_minor": 2
}
