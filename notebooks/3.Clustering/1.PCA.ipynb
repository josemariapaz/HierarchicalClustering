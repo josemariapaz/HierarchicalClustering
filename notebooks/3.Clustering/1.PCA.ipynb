{
 "cells": [
  {
   "cell_type": "markdown",
   "metadata": {},
   "source": [
    "# PCA"
   ]
  },
  {
   "cell_type": "code",
   "execution_count": 67,
   "metadata": {},
   "outputs": [],
   "source": [
    "import pandas as pd\n",
    "import numpy as np\n",
    "import seaborn as sbn\n",
    "from sklearn import preprocessing\n",
    "from sklearn.decomposition import PCA"
   ]
  },
  {
   "cell_type": "code",
   "execution_count": 68,
   "metadata": {
    "scrolled": true
   },
   "outputs": [],
   "source": [
    "df = pd.read_csv(r'C:\\Users\\DELUX\\Desktop\\publicaciones\\1_DataScoutingClustering\\1_MedioCentroCreativo\\df\\df.csv',decimal=',')"
   ]
  },
  {
   "cell_type": "code",
   "execution_count": 69,
   "metadata": {},
   "outputs": [
    {
     "data": {
      "text/html": [
       "<div>\n",
       "<style scoped>\n",
       "    .dataframe tbody tr th:only-of-type {\n",
       "        vertical-align: middle;\n",
       "    }\n",
       "\n",
       "    .dataframe tbody tr th {\n",
       "        vertical-align: top;\n",
       "    }\n",
       "\n",
       "    .dataframe thead th {\n",
       "        text-align: right;\n",
       "    }\n",
       "</style>\n",
       "<table border=\"1\" class=\"dataframe\">\n",
       "  <thead>\n",
       "    <tr style=\"text-align: right;\">\n",
       "      <th></th>\n",
       "      <th>id_jugador</th>\n",
       "      <th>jugador</th>\n",
       "      <th>equipo</th>\n",
       "      <th>feat1</th>\n",
       "      <th>feat2</th>\n",
       "      <th>feat3</th>\n",
       "      <th>feat4</th>\n",
       "      <th>feat5</th>\n",
       "      <th>feat6</th>\n",
       "      <th>feat7</th>\n",
       "      <th>feat8</th>\n",
       "      <th>feat9</th>\n",
       "      <th>feat10</th>\n",
       "      <th>feat11</th>\n",
       "      <th>minJug</th>\n",
       "    </tr>\n",
       "  </thead>\n",
       "  <tbody>\n",
       "    <tr>\n",
       "      <th>0</th>\n",
       "      <td>10316</td>\n",
       "      <td>Joaquín Sánchez Rodríguez</td>\n",
       "      <td>Real Betis</td>\n",
       "      <td>2.284534</td>\n",
       "      <td>0.265643</td>\n",
       "      <td>0.847518</td>\n",
       "      <td>2.550177</td>\n",
       "      <td>1.381346</td>\n",
       "      <td>1.646989</td>\n",
       "      <td>2.337662</td>\n",
       "      <td>6.216057</td>\n",
       "      <td>0.0</td>\n",
       "      <td>3.187721</td>\n",
       "      <td>0.316154</td>\n",
       "      <td>1694</td>\n",
       "    </tr>\n",
       "    <tr>\n",
       "      <th>1</th>\n",
       "      <td>11129</td>\n",
       "      <td>David López</td>\n",
       "      <td>Espanyol</td>\n",
       "      <td>3.807692</td>\n",
       "      <td>0.049451</td>\n",
       "      <td>0.883181</td>\n",
       "      <td>0.296703</td>\n",
       "      <td>0.148352</td>\n",
       "      <td>0.296703</td>\n",
       "      <td>0.197802</td>\n",
       "      <td>0.791209</td>\n",
       "      <td>0.0</td>\n",
       "      <td>12.956044</td>\n",
       "      <td>0.164928</td>\n",
       "      <td>1820</td>\n",
       "    </tr>\n",
       "    <tr>\n",
       "      <th>2</th>\n",
       "      <td>11602</td>\n",
       "      <td>Borja Fernández</td>\n",
       "      <td>Real Valladolid</td>\n",
       "      <td>2.681764</td>\n",
       "      <td>0.000000</td>\n",
       "      <td>0.788918</td>\n",
       "      <td>0.107271</td>\n",
       "      <td>0.000000</td>\n",
       "      <td>0.750894</td>\n",
       "      <td>0.107271</td>\n",
       "      <td>0.643623</td>\n",
       "      <td>0.0</td>\n",
       "      <td>7.401669</td>\n",
       "      <td>0.229846</td>\n",
       "      <td>839</td>\n",
       "    </tr>\n",
       "    <tr>\n",
       "      <th>3</th>\n",
       "      <td>14464</td>\n",
       "      <td>Aritz Aduriz</td>\n",
       "      <td>Athletic Club</td>\n",
       "      <td>0.860786</td>\n",
       "      <td>0.286929</td>\n",
       "      <td>0.623377</td>\n",
       "      <td>0.191286</td>\n",
       "      <td>0.573858</td>\n",
       "      <td>2.199787</td>\n",
       "      <td>0.669501</td>\n",
       "      <td>2.104145</td>\n",
       "      <td>0.0</td>\n",
       "      <td>0.669501</td>\n",
       "      <td>0.422505</td>\n",
       "      <td>941</td>\n",
       "    </tr>\n",
       "    <tr>\n",
       "      <th>4</th>\n",
       "      <td>16021</td>\n",
       "      <td>Diego López</td>\n",
       "      <td>Espanyol</td>\n",
       "      <td>0.789474</td>\n",
       "      <td>0.000000</td>\n",
       "      <td>0.659176</td>\n",
       "      <td>0.026316</td>\n",
       "      <td>0.000000</td>\n",
       "      <td>0.052632</td>\n",
       "      <td>0.026316</td>\n",
       "      <td>0.000000</td>\n",
       "      <td>0.0</td>\n",
       "      <td>12.710526</td>\n",
       "      <td>0.000000</td>\n",
       "      <td>3420</td>\n",
       "    </tr>\n",
       "  </tbody>\n",
       "</table>\n",
       "</div>"
      ],
      "text/plain": [
       "   id_jugador                    jugador           equipo     feat1     feat2  \\\n",
       "0       10316  Joaquín Sánchez Rodríguez       Real Betis  2.284534  0.265643   \n",
       "1       11129                David López         Espanyol  3.807692  0.049451   \n",
       "2       11602            Borja Fernández  Real Valladolid  2.681764  0.000000   \n",
       "3       14464               Aritz Aduriz    Athletic Club  0.860786  0.286929   \n",
       "4       16021                Diego López         Espanyol  0.789474  0.000000   \n",
       "\n",
       "      feat3     feat4     feat5     feat6     feat7     feat8  feat9  \\\n",
       "0  0.847518  2.550177  1.381346  1.646989  2.337662  6.216057    0.0   \n",
       "1  0.883181  0.296703  0.148352  0.296703  0.197802  0.791209    0.0   \n",
       "2  0.788918  0.107271  0.000000  0.750894  0.107271  0.643623    0.0   \n",
       "3  0.623377  0.191286  0.573858  2.199787  0.669501  2.104145    0.0   \n",
       "4  0.659176  0.026316  0.000000  0.052632  0.026316  0.000000    0.0   \n",
       "\n",
       "      feat10    feat11  minJug  \n",
       "0   3.187721  0.316154    1694  \n",
       "1  12.956044  0.164928    1820  \n",
       "2   7.401669  0.229846     839  \n",
       "3   0.669501  0.422505     941  \n",
       "4  12.710526  0.000000    3420  "
      ]
     },
     "execution_count": 69,
     "metadata": {},
     "output_type": "execute_result"
    }
   ],
   "source": [
    "df.head()"
   ]
  },
  {
   "cell_type": "code",
   "execution_count": 70,
   "metadata": {},
   "outputs": [
    {
     "data": {
      "text/html": [
       "<div>\n",
       "<style scoped>\n",
       "    .dataframe tbody tr th:only-of-type {\n",
       "        vertical-align: middle;\n",
       "    }\n",
       "\n",
       "    .dataframe tbody tr th {\n",
       "        vertical-align: top;\n",
       "    }\n",
       "\n",
       "    .dataframe thead th {\n",
       "        text-align: right;\n",
       "    }\n",
       "</style>\n",
       "<table border=\"1\" class=\"dataframe\">\n",
       "  <thead>\n",
       "    <tr style=\"text-align: right;\">\n",
       "      <th></th>\n",
       "      <th>id_jugador</th>\n",
       "      <th>jugador</th>\n",
       "      <th>equipo</th>\n",
       "      <th>feat1</th>\n",
       "      <th>feat2</th>\n",
       "      <th>feat3</th>\n",
       "      <th>feat4</th>\n",
       "      <th>feat5</th>\n",
       "      <th>feat6</th>\n",
       "      <th>feat7</th>\n",
       "      <th>feat8</th>\n",
       "      <th>feat9</th>\n",
       "      <th>feat10</th>\n",
       "      <th>feat11</th>\n",
       "      <th>minJug</th>\n",
       "    </tr>\n",
       "  </thead>\n",
       "  <tbody>\n",
       "    <tr>\n",
       "      <th>8</th>\n",
       "      <td>17740</td>\n",
       "      <td>Jesús Navas</td>\n",
       "      <td>Sevilla</td>\n",
       "      <td>3.750000</td>\n",
       "      <td>0.132743</td>\n",
       "      <td>0.770099</td>\n",
       "      <td>1.161504</td>\n",
       "      <td>0.696903</td>\n",
       "      <td>0.564159</td>\n",
       "      <td>1.393805</td>\n",
       "      <td>5.608407</td>\n",
       "      <td>0.066372</td>\n",
       "      <td>4.314159</td>\n",
       "      <td>0.326144</td>\n",
       "      <td>2712</td>\n",
       "    </tr>\n",
       "    <tr>\n",
       "      <th>44</th>\n",
       "      <td>46479</td>\n",
       "      <td>Daniel Filipe Martins Carriço</td>\n",
       "      <td>Sevilla</td>\n",
       "      <td>2.617261</td>\n",
       "      <td>0.042214</td>\n",
       "      <td>0.797203</td>\n",
       "      <td>0.337711</td>\n",
       "      <td>0.042214</td>\n",
       "      <td>0.253283</td>\n",
       "      <td>0.211069</td>\n",
       "      <td>0.633208</td>\n",
       "      <td>0.042214</td>\n",
       "      <td>7.260788</td>\n",
       "      <td>0.126860</td>\n",
       "      <td>2132</td>\n",
       "    </tr>\n",
       "    <tr>\n",
       "      <th>49</th>\n",
       "      <td>48714</td>\n",
       "      <td>Simon Kjaer</td>\n",
       "      <td>Sevilla</td>\n",
       "      <td>1.920596</td>\n",
       "      <td>0.044665</td>\n",
       "      <td>0.856670</td>\n",
       "      <td>0.000000</td>\n",
       "      <td>0.000000</td>\n",
       "      <td>0.178660</td>\n",
       "      <td>0.267990</td>\n",
       "      <td>0.178660</td>\n",
       "      <td>0.133995</td>\n",
       "      <td>9.692308</td>\n",
       "      <td>0.051802</td>\n",
       "      <td>2015</td>\n",
       "    </tr>\n",
       "    <tr>\n",
       "      <th>54</th>\n",
       "      <td>49309</td>\n",
       "      <td>Éver Banega</td>\n",
       "      <td>Sevilla</td>\n",
       "      <td>9.181614</td>\n",
       "      <td>0.235426</td>\n",
       "      <td>0.854137</td>\n",
       "      <td>1.984305</td>\n",
       "      <td>1.042601</td>\n",
       "      <td>1.446188</td>\n",
       "      <td>1.748879</td>\n",
       "      <td>4.439462</td>\n",
       "      <td>0.067265</td>\n",
       "      <td>16.177130</td>\n",
       "      <td>0.287647</td>\n",
       "      <td>2676</td>\n",
       "    </tr>\n",
       "    <tr>\n",
       "      <th>61</th>\n",
       "      <td>51945</td>\n",
       "      <td>Tomás Vaclik</td>\n",
       "      <td>Sevilla</td>\n",
       "      <td>0.757576</td>\n",
       "      <td>0.000000</td>\n",
       "      <td>0.520295</td>\n",
       "      <td>0.030303</td>\n",
       "      <td>0.000000</td>\n",
       "      <td>0.000000</td>\n",
       "      <td>0.000000</td>\n",
       "      <td>0.000000</td>\n",
       "      <td>0.000000</td>\n",
       "      <td>9.454545</td>\n",
       "      <td>0.000000</td>\n",
       "      <td>2970</td>\n",
       "    </tr>\n",
       "    <tr>\n",
       "      <th>76</th>\n",
       "      <td>55826</td>\n",
       "      <td>Gabriel Mercado</td>\n",
       "      <td>Sevilla</td>\n",
       "      <td>2.797927</td>\n",
       "      <td>0.103627</td>\n",
       "      <td>0.819892</td>\n",
       "      <td>0.051813</td>\n",
       "      <td>0.051813</td>\n",
       "      <td>0.155440</td>\n",
       "      <td>0.051813</td>\n",
       "      <td>0.932642</td>\n",
       "      <td>0.000000</td>\n",
       "      <td>4.455959</td>\n",
       "      <td>0.206987</td>\n",
       "      <td>1737</td>\n",
       "    </tr>\n",
       "    <tr>\n",
       "      <th>96</th>\n",
       "      <td>62991</td>\n",
       "      <td>Sergio Escudero</td>\n",
       "      <td>Sevilla</td>\n",
       "      <td>3.311814</td>\n",
       "      <td>0.116204</td>\n",
       "      <td>0.810484</td>\n",
       "      <td>0.697224</td>\n",
       "      <td>0.697224</td>\n",
       "      <td>1.394448</td>\n",
       "      <td>0.697224</td>\n",
       "      <td>3.718528</td>\n",
       "      <td>0.116204</td>\n",
       "      <td>3.834732</td>\n",
       "      <td>0.054641</td>\n",
       "      <td>1549</td>\n",
       "    </tr>\n",
       "    <tr>\n",
       "      <th>121</th>\n",
       "      <td>80758</td>\n",
       "      <td>Quincy Promes</td>\n",
       "      <td>Sevilla</td>\n",
       "      <td>2.868069</td>\n",
       "      <td>0.172084</td>\n",
       "      <td>0.788639</td>\n",
       "      <td>1.606119</td>\n",
       "      <td>1.548757</td>\n",
       "      <td>2.179732</td>\n",
       "      <td>1.606119</td>\n",
       "      <td>4.703633</td>\n",
       "      <td>0.057361</td>\n",
       "      <td>3.040153</td>\n",
       "      <td>0.141422</td>\n",
       "      <td>1569</td>\n",
       "    </tr>\n",
       "    <tr>\n",
       "      <th>135</th>\n",
       "      <td>83912</td>\n",
       "      <td>Wissam Ben Yedder</td>\n",
       "      <td>Sevilla</td>\n",
       "      <td>1.532458</td>\n",
       "      <td>0.223484</td>\n",
       "      <td>0.739073</td>\n",
       "      <td>1.468606</td>\n",
       "      <td>1.500532</td>\n",
       "      <td>2.075204</td>\n",
       "      <td>1.340901</td>\n",
       "      <td>4.565449</td>\n",
       "      <td>0.095779</td>\n",
       "      <td>1.340901</td>\n",
       "      <td>0.339194</td>\n",
       "      <td>2819</td>\n",
       "    </tr>\n",
       "    <tr>\n",
       "      <th>140</th>\n",
       "      <td>86151</td>\n",
       "      <td>Sergi Gómez</td>\n",
       "      <td>Sevilla</td>\n",
       "      <td>2.310195</td>\n",
       "      <td>0.000000</td>\n",
       "      <td>0.846259</td>\n",
       "      <td>0.000000</td>\n",
       "      <td>0.000000</td>\n",
       "      <td>0.065076</td>\n",
       "      <td>0.162690</td>\n",
       "      <td>0.618221</td>\n",
       "      <td>0.000000</td>\n",
       "      <td>9.598698</td>\n",
       "      <td>0.077080</td>\n",
       "      <td>2766</td>\n",
       "    </tr>\n",
       "    <tr>\n",
       "      <th>155</th>\n",
       "      <td>88484</td>\n",
       "      <td>Pablo Sarabia</td>\n",
       "      <td>Sevilla</td>\n",
       "      <td>3.167155</td>\n",
       "      <td>0.000000</td>\n",
       "      <td>0.796358</td>\n",
       "      <td>0.923754</td>\n",
       "      <td>1.451613</td>\n",
       "      <td>2.045455</td>\n",
       "      <td>2.210411</td>\n",
       "      <td>7.126100</td>\n",
       "      <td>0.065982</td>\n",
       "      <td>3.596041</td>\n",
       "      <td>0.343394</td>\n",
       "      <td>2728</td>\n",
       "    </tr>\n",
       "    <tr>\n",
       "      <th>200</th>\n",
       "      <td>100731</td>\n",
       "      <td>Franco Vázquez</td>\n",
       "      <td>Sevilla</td>\n",
       "      <td>3.581111</td>\n",
       "      <td>0.354176</td>\n",
       "      <td>0.793071</td>\n",
       "      <td>1.731526</td>\n",
       "      <td>1.495409</td>\n",
       "      <td>2.164408</td>\n",
       "      <td>1.101880</td>\n",
       "      <td>5.391342</td>\n",
       "      <td>0.314823</td>\n",
       "      <td>4.997814</td>\n",
       "      <td>0.290730</td>\n",
       "      <td>2287</td>\n",
       "    </tr>\n",
       "    <tr>\n",
       "      <th>212</th>\n",
       "      <td>106899</td>\n",
       "      <td>Roque Mesa</td>\n",
       "      <td>Sevilla</td>\n",
       "      <td>4.022923</td>\n",
       "      <td>0.206304</td>\n",
       "      <td>0.874179</td>\n",
       "      <td>1.186246</td>\n",
       "      <td>0.515759</td>\n",
       "      <td>1.856734</td>\n",
       "      <td>0.825215</td>\n",
       "      <td>4.332378</td>\n",
       "      <td>0.051576</td>\n",
       "      <td>6.034384</td>\n",
       "      <td>0.295743</td>\n",
       "      <td>1745</td>\n",
       "    </tr>\n",
       "    <tr>\n",
       "      <th>233</th>\n",
       "      <td>128348</td>\n",
       "      <td>Ibrahim Amadou</td>\n",
       "      <td>Sevilla</td>\n",
       "      <td>2.258917</td>\n",
       "      <td>0.000000</td>\n",
       "      <td>0.857955</td>\n",
       "      <td>0.594452</td>\n",
       "      <td>0.237781</td>\n",
       "      <td>0.713342</td>\n",
       "      <td>0.356671</td>\n",
       "      <td>1.902246</td>\n",
       "      <td>0.000000</td>\n",
       "      <td>5.825627</td>\n",
       "      <td>0.238889</td>\n",
       "      <td>757</td>\n",
       "    </tr>\n",
       "    <tr>\n",
       "      <th>261</th>\n",
       "      <td>165811</td>\n",
       "      <td>André Miguel Valente Silva</td>\n",
       "      <td>Sevilla</td>\n",
       "      <td>0.957004</td>\n",
       "      <td>0.249653</td>\n",
       "      <td>0.726766</td>\n",
       "      <td>0.582524</td>\n",
       "      <td>1.373093</td>\n",
       "      <td>2.330097</td>\n",
       "      <td>1.081831</td>\n",
       "      <td>3.703190</td>\n",
       "      <td>0.208044</td>\n",
       "      <td>1.289875</td>\n",
       "      <td>0.366048</td>\n",
       "      <td>2163</td>\n",
       "    </tr>\n",
       "    <tr>\n",
       "      <th>291</th>\n",
       "      <td>193922</td>\n",
       "      <td>Guilherme Antonio Arana Lopes</td>\n",
       "      <td>Sevilla</td>\n",
       "      <td>0.426540</td>\n",
       "      <td>0.000000</td>\n",
       "      <td>0.845455</td>\n",
       "      <td>0.426540</td>\n",
       "      <td>0.853081</td>\n",
       "      <td>0.853081</td>\n",
       "      <td>0.142180</td>\n",
       "      <td>1.563981</td>\n",
       "      <td>0.000000</td>\n",
       "      <td>1.279621</td>\n",
       "      <td>0.039578</td>\n",
       "      <td>633</td>\n",
       "    </tr>\n",
       "  </tbody>\n",
       "</table>\n",
       "</div>"
      ],
      "text/plain": [
       "     id_jugador                        jugador   equipo     feat1     feat2  \\\n",
       "8         17740                    Jesús Navas  Sevilla  3.750000  0.132743   \n",
       "44        46479  Daniel Filipe Martins Carriço  Sevilla  2.617261  0.042214   \n",
       "49        48714                    Simon Kjaer  Sevilla  1.920596  0.044665   \n",
       "54        49309                    Éver Banega  Sevilla  9.181614  0.235426   \n",
       "61        51945                   Tomás Vaclik  Sevilla  0.757576  0.000000   \n",
       "76        55826                Gabriel Mercado  Sevilla  2.797927  0.103627   \n",
       "96        62991                Sergio Escudero  Sevilla  3.311814  0.116204   \n",
       "121       80758                  Quincy Promes  Sevilla  2.868069  0.172084   \n",
       "135       83912              Wissam Ben Yedder  Sevilla  1.532458  0.223484   \n",
       "140       86151                    Sergi Gómez  Sevilla  2.310195  0.000000   \n",
       "155       88484                  Pablo Sarabia  Sevilla  3.167155  0.000000   \n",
       "200      100731                 Franco Vázquez  Sevilla  3.581111  0.354176   \n",
       "212      106899                     Roque Mesa  Sevilla  4.022923  0.206304   \n",
       "233      128348                 Ibrahim Amadou  Sevilla  2.258917  0.000000   \n",
       "261      165811     André Miguel Valente Silva  Sevilla  0.957004  0.249653   \n",
       "291      193922  Guilherme Antonio Arana Lopes  Sevilla  0.426540  0.000000   \n",
       "\n",
       "        feat3     feat4     feat5     feat6     feat7     feat8     feat9  \\\n",
       "8    0.770099  1.161504  0.696903  0.564159  1.393805  5.608407  0.066372   \n",
       "44   0.797203  0.337711  0.042214  0.253283  0.211069  0.633208  0.042214   \n",
       "49   0.856670  0.000000  0.000000  0.178660  0.267990  0.178660  0.133995   \n",
       "54   0.854137  1.984305  1.042601  1.446188  1.748879  4.439462  0.067265   \n",
       "61   0.520295  0.030303  0.000000  0.000000  0.000000  0.000000  0.000000   \n",
       "76   0.819892  0.051813  0.051813  0.155440  0.051813  0.932642  0.000000   \n",
       "96   0.810484  0.697224  0.697224  1.394448  0.697224  3.718528  0.116204   \n",
       "121  0.788639  1.606119  1.548757  2.179732  1.606119  4.703633  0.057361   \n",
       "135  0.739073  1.468606  1.500532  2.075204  1.340901  4.565449  0.095779   \n",
       "140  0.846259  0.000000  0.000000  0.065076  0.162690  0.618221  0.000000   \n",
       "155  0.796358  0.923754  1.451613  2.045455  2.210411  7.126100  0.065982   \n",
       "200  0.793071  1.731526  1.495409  2.164408  1.101880  5.391342  0.314823   \n",
       "212  0.874179  1.186246  0.515759  1.856734  0.825215  4.332378  0.051576   \n",
       "233  0.857955  0.594452  0.237781  0.713342  0.356671  1.902246  0.000000   \n",
       "261  0.726766  0.582524  1.373093  2.330097  1.081831  3.703190  0.208044   \n",
       "291  0.845455  0.426540  0.853081  0.853081  0.142180  1.563981  0.000000   \n",
       "\n",
       "        feat10    feat11  minJug  \n",
       "8     4.314159  0.326144    2712  \n",
       "44    7.260788  0.126860    2132  \n",
       "49    9.692308  0.051802    2015  \n",
       "54   16.177130  0.287647    2676  \n",
       "61    9.454545  0.000000    2970  \n",
       "76    4.455959  0.206987    1737  \n",
       "96    3.834732  0.054641    1549  \n",
       "121   3.040153  0.141422    1569  \n",
       "135   1.340901  0.339194    2819  \n",
       "140   9.598698  0.077080    2766  \n",
       "155   3.596041  0.343394    2728  \n",
       "200   4.997814  0.290730    2287  \n",
       "212   6.034384  0.295743    1745  \n",
       "233   5.825627  0.238889     757  \n",
       "261   1.289875  0.366048    2163  \n",
       "291   1.279621  0.039578     633  "
      ]
     },
     "execution_count": 70,
     "metadata": {},
     "output_type": "execute_result"
    }
   ],
   "source": [
    "df[df['equipo']=='Sevilla']"
   ]
  },
  {
   "cell_type": "code",
   "execution_count": 71,
   "metadata": {},
   "outputs": [
    {
     "data": {
      "text/plain": [
       "360"
      ]
     },
     "execution_count": 71,
     "metadata": {},
     "output_type": "execute_result"
    }
   ],
   "source": [
    "len(df)"
   ]
  },
  {
   "cell_type": "code",
   "execution_count": 72,
   "metadata": {},
   "outputs": [],
   "source": [
    "df = df[df['feat11']>0.25]"
   ]
  },
  {
   "cell_type": "code",
   "execution_count": 73,
   "metadata": {},
   "outputs": [
    {
     "data": {
      "text/plain": [
       "(192, 15)"
      ]
     },
     "execution_count": 73,
     "metadata": {},
     "output_type": "execute_result"
    }
   ],
   "source": [
    "df.shape"
   ]
  },
  {
   "cell_type": "code",
   "execution_count": 74,
   "metadata": {},
   "outputs": [],
   "source": [
    "x_array = np.array(df['feat1'])\n",
    "normalized_X = preprocessing.normalize([x_array])\n",
    "feat1N = normalized_X.flatten()"
   ]
  },
  {
   "cell_type": "code",
   "execution_count": 75,
   "metadata": {},
   "outputs": [],
   "source": [
    "x_array = np.array(df['feat2'])\n",
    "normalized_X = preprocessing.normalize([x_array])\n",
    "feat2N = normalized_X.flatten()"
   ]
  },
  {
   "cell_type": "code",
   "execution_count": 76,
   "metadata": {},
   "outputs": [],
   "source": [
    "x_array = np.array(df['feat3'])\n",
    "normalized_X = preprocessing.normalize([x_array])\n",
    "feat3N = normalized_X.flatten()"
   ]
  },
  {
   "cell_type": "code",
   "execution_count": 77,
   "metadata": {},
   "outputs": [],
   "source": [
    "x_array = np.array(df['feat4'])\n",
    "normalized_X = preprocessing.normalize([x_array])\n",
    "feat4N = normalized_X.flatten()"
   ]
  },
  {
   "cell_type": "code",
   "execution_count": 78,
   "metadata": {},
   "outputs": [],
   "source": [
    "x_array = np.array(df['feat5'])\n",
    "normalized_X = preprocessing.normalize([x_array])\n",
    "feat5N = normalized_X.flatten()"
   ]
  },
  {
   "cell_type": "code",
   "execution_count": 79,
   "metadata": {},
   "outputs": [],
   "source": [
    "x_array = np.array(df['feat6'])\n",
    "normalized_X = preprocessing.normalize([x_array])\n",
    "feat6N = normalized_X.flatten()"
   ]
  },
  {
   "cell_type": "code",
   "execution_count": 80,
   "metadata": {},
   "outputs": [],
   "source": [
    "x_array = np.array(df['feat7'])\n",
    "normalized_X = preprocessing.normalize([x_array])\n",
    "feat7N = normalized_X.flatten()"
   ]
  },
  {
   "cell_type": "code",
   "execution_count": 81,
   "metadata": {},
   "outputs": [],
   "source": [
    "x_array = np.array(df['feat8'])\n",
    "normalized_X = preprocessing.normalize([x_array])\n",
    "feat8N = normalized_X.flatten()"
   ]
  },
  {
   "cell_type": "code",
   "execution_count": 82,
   "metadata": {},
   "outputs": [],
   "source": [
    "x_array = np.array(df['feat9'])\n",
    "normalized_X = preprocessing.normalize([x_array])\n",
    "feat9N = normalized_X.flatten()"
   ]
  },
  {
   "cell_type": "code",
   "execution_count": 83,
   "metadata": {},
   "outputs": [],
   "source": [
    "x_array = np.array(df['feat10'])\n",
    "normalized_X = preprocessing.normalize([x_array])\n",
    "feat10N = normalized_X.flatten()"
   ]
  },
  {
   "cell_type": "code",
   "execution_count": 84,
   "metadata": {},
   "outputs": [],
   "source": [
    "x_array = np.array(df['feat11'])\n",
    "normalized_X = preprocessing.normalize([x_array])\n",
    "feat11N = normalized_X.flatten()"
   ]
  },
  {
   "cell_type": "code",
   "execution_count": 85,
   "metadata": {},
   "outputs": [],
   "source": [
    "df['feat1N'] = feat1N\n",
    "df['feat2N'] = feat2N\n",
    "df['feat3N'] = feat3N\n",
    "df['feat4N'] = feat4N\n",
    "df['feat5N'] = feat5N\n",
    "df['feat6N'] = feat6N\n",
    "df['feat7N'] = feat7N\n",
    "df['feat8N'] = feat8N\n",
    "df['feat9N'] = feat9N\n",
    "df['feat10N'] = feat10N\n",
    "df['feat11N'] = feat11N"
   ]
  },
  {
   "cell_type": "code",
   "execution_count": 86,
   "metadata": {},
   "outputs": [
    {
     "data": {
      "text/plain": [
       "(192, 26)"
      ]
     },
     "execution_count": 86,
     "metadata": {},
     "output_type": "execute_result"
    }
   ],
   "source": [
    "df.shape"
   ]
  },
  {
   "cell_type": "code",
   "execution_count": 87,
   "metadata": {},
   "outputs": [
    {
     "data": {
      "text/plain": [
       "Index(['id_jugador', 'jugador', 'equipo', 'feat1', 'feat2', 'feat3', 'feat4',\n",
       "       'feat5', 'feat6', 'feat7', 'feat8', 'feat9', 'feat10', 'feat11',\n",
       "       'minJug', 'feat1N', 'feat2N', 'feat3N', 'feat4N', 'feat5N', 'feat6N',\n",
       "       'feat7N', 'feat8N', 'feat9N', 'feat10N', 'feat11N'],\n",
       "      dtype='object')"
      ]
     },
     "execution_count": 87,
     "metadata": {},
     "output_type": "execute_result"
    }
   ],
   "source": [
    "df.columns"
   ]
  },
  {
   "cell_type": "code",
   "execution_count": 88,
   "metadata": {},
   "outputs": [],
   "source": [
    "X_df = df[['feat1N','feat3N','feat4N','feat7N','feat8N','feat9N']]"
   ]
  },
  {
   "cell_type": "code",
   "execution_count": 89,
   "metadata": {},
   "outputs": [],
   "source": [
    "model = PCA(n_components=2)"
   ]
  },
  {
   "cell_type": "code",
   "execution_count": 90,
   "metadata": {},
   "outputs": [
    {
     "data": {
      "text/plain": [
       "PCA(copy=True, iterated_power='auto', n_components=2, random_state=None,\n",
       "  svd_solver='auto', tol=0.0, whiten=False)"
      ]
     },
     "execution_count": 90,
     "metadata": {},
     "output_type": "execute_result"
    }
   ],
   "source": [
    "model.fit(X_df)"
   ]
  },
  {
   "cell_type": "code",
   "execution_count": 91,
   "metadata": {},
   "outputs": [],
   "source": [
    "X_2d = model.transform(X_df)"
   ]
  },
  {
   "cell_type": "code",
   "execution_count": 92,
   "metadata": {},
   "outputs": [],
   "source": [
    "df['PCA1'] = X_2d[:,0]\n",
    "df['PCA2'] = X_2d[:,1]"
   ]
  },
  {
   "cell_type": "code",
   "execution_count": 93,
   "metadata": {
    "scrolled": false
   },
   "outputs": [
    {
     "data": {
      "image/png": "[encoded data removed]",
      "text/plain": [
       "<Figure size 360x360 with 1 Axes>"
      ]
     },
     "metadata": {
      "needs_background": "light"
     },
     "output_type": "display_data"
    }
   ],
   "source": [
    "sbn.lmplot('PCA1','PCA2', data=df,fit_reg=False);"
   ]
  },
  {
   "cell_type": "code",
   "execution_count": 101,
   "metadata": {},
   "outputs": [
    {
     "name": "stdout",
     "output_type": "stream",
     "text": [
      "C:\\Users\\DELUX\\Desktop\\publicaciones\\1_DataScoutingClustering\\1_MedioCentroCreativo\\df\n"
     ]
    }
   ],
   "source": [
    "cd C:\\Users\\DELUX\\Desktop\\publicaciones\\1_DataScoutingClustering\\1_MedioCentroCreativo\\df"
   ]
  },
  {
   "cell_type": "code",
   "execution_count": 102,
   "metadata": {},
   "outputs": [],
   "source": [
    "df.to_csv('df_pca.csv',encoding='utf-8', index=False,decimal=',')"
   ]
  },
  {
   "cell_type": "code",
   "execution_count": 100,
   "metadata": {},
   "outputs": [
    {
     "data": {
      "text/html": [
       "<div>\n",
       "<style scoped>\n",
       "    .dataframe tbody tr th:only-of-type {\n",
       "        vertical-align: middle;\n",
       "    }\n",
       "\n",
       "    .dataframe tbody tr th {\n",
       "        vertical-align: top;\n",
       "    }\n",
       "\n",
       "    .dataframe thead th {\n",
       "        text-align: right;\n",
       "    }\n",
       "</style>\n",
       "<table border=\"1\" class=\"dataframe\">\n",
       "  <thead>\n",
       "    <tr style=\"text-align: right;\">\n",
       "      <th></th>\n",
       "      <th>jugador</th>\n",
       "      <th>feat11</th>\n",
       "    </tr>\n",
       "  </thead>\n",
       "  <tbody>\n",
       "    <tr>\n",
       "      <th>17</th>\n",
       "      <td>Lionel Messi</td>\n",
       "      <td>0.523721</td>\n",
       "    </tr>\n",
       "    <tr>\n",
       "      <th>27</th>\n",
       "      <td>Ivan Rakitic</td>\n",
       "      <td>0.372517</td>\n",
       "    </tr>\n",
       "    <tr>\n",
       "      <th>33</th>\n",
       "      <td>Luis Suárez</td>\n",
       "      <td>0.319243</td>\n",
       "    </tr>\n",
       "    <tr>\n",
       "      <th>39</th>\n",
       "      <td>Arturo Vidal</td>\n",
       "      <td>0.417456</td>\n",
       "    </tr>\n",
       "    <tr>\n",
       "      <th>68</th>\n",
       "      <td>Sergio Busquets</td>\n",
       "      <td>0.396563</td>\n",
       "    </tr>\n",
       "    <tr>\n",
       "      <th>137</th>\n",
       "      <td>Philippe Coutinho Correia</td>\n",
       "      <td>0.291971</td>\n",
       "    </tr>\n",
       "    <tr>\n",
       "      <th>141</th>\n",
       "      <td>Sergi Roberto</td>\n",
       "      <td>0.405241</td>\n",
       "    </tr>\n",
       "    <tr>\n",
       "      <th>282</th>\n",
       "      <td>Carles Aleñá</td>\n",
       "      <td>0.525424</td>\n",
       "    </tr>\n",
       "    <tr>\n",
       "      <th>283</th>\n",
       "      <td>Malcom Filipe Silva de Oliveira</td>\n",
       "      <td>0.297674</td>\n",
       "    </tr>\n",
       "    <tr>\n",
       "      <th>304</th>\n",
       "      <td>Nélson Cabral Semedo</td>\n",
       "      <td>0.396091</td>\n",
       "    </tr>\n",
       "    <tr>\n",
       "      <th>310</th>\n",
       "      <td>Arthur Henrique Ramos de Oliveira Melo</td>\n",
       "      <td>0.393712</td>\n",
       "    </tr>\n",
       "    <tr>\n",
       "      <th>325</th>\n",
       "      <td>Ousmane Dembélé</td>\n",
       "      <td>0.324480</td>\n",
       "    </tr>\n",
       "  </tbody>\n",
       "</table>\n",
       "</div>"
      ],
      "text/plain": [
       "                                    jugador    feat11\n",
       "17                             Lionel Messi  0.523721\n",
       "27                             Ivan Rakitic  0.372517\n",
       "33                              Luis Suárez  0.319243\n",
       "39                             Arturo Vidal  0.417456\n",
       "68                          Sergio Busquets  0.396563\n",
       "137               Philippe Coutinho Correia  0.291971\n",
       "141                           Sergi Roberto  0.405241\n",
       "282                            Carles Aleñá  0.525424\n",
       "283         Malcom Filipe Silva de Oliveira  0.297674\n",
       "304                    Nélson Cabral Semedo  0.396091\n",
       "310  Arthur Henrique Ramos de Oliveira Melo  0.393712\n",
       "325                         Ousmane Dembélé  0.324480"
      ]
     },
     "execution_count": 100,
     "metadata": {},
     "output_type": "execute_result"
    }
   ],
   "source": [
    "df[df['equipo']=='Barcelona'][['jugador','feat11']]"
   ]
  }
 ],
 "metadata": {
  "kernelspec": {
   "display_name": "Python 3",
   "language": "python",
   "name": "python3"
  },
  "language_info": {
   "codemirror_mode": {
    "name": "ipython",
    "version": 3
   },
   "file_extension": ".py",
   "mimetype": "text/x-python",
   "name": "python",
   "nbconvert_exporter": "python",
   "pygments_lexer": "ipython3",
   "version": "3.7.1"
  }
 },
 "nbformat": 4,
 "nbformat_minor": 2
}
